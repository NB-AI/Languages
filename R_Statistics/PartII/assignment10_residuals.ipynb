{
 "cells": [
  {
   "cell_type": "markdown",
   "metadata": {},
   "source": [
    "# Homework 10 - 07.01.22 - Nina Braunmiller - k11923286"
   ]
  },
  {
   "cell_type": "markdown",
   "metadata": {},
   "source": [
    "## Task 1"
   ]
  },
  {
   "cell_type": "code",
   "execution_count": 1,
   "metadata": {},
   "outputs": [
    {
     "data": {
      "text/html": [
       "<table class=\"dataframe\">\n",
       "<caption>A matrix: 16 × 3 of type dbl</caption>\n",
       "<tbody>\n",
       "\t<tr><td>1</td><td>1</td><td>0</td></tr>\n",
       "\t<tr><td>1</td><td>1</td><td>0</td></tr>\n",
       "\t<tr><td>1</td><td>1</td><td>0</td></tr>\n",
       "\t<tr><td>1</td><td>1</td><td>0</td></tr>\n",
       "\t<tr><td>1</td><td>1</td><td>0</td></tr>\n",
       "\t<tr><td>1</td><td>1</td><td>0</td></tr>\n",
       "\t<tr><td>1</td><td>1</td><td>0</td></tr>\n",
       "\t<tr><td>1</td><td>0</td><td>1</td></tr>\n",
       "\t<tr><td>1</td><td>0</td><td>1</td></tr>\n",
       "\t<tr><td>1</td><td>0</td><td>1</td></tr>\n",
       "\t<tr><td>1</td><td>0</td><td>1</td></tr>\n",
       "\t<tr><td>1</td><td>0</td><td>1</td></tr>\n",
       "\t<tr><td>1</td><td>0</td><td>1</td></tr>\n",
       "\t<tr><td>1</td><td>0</td><td>1</td></tr>\n",
       "\t<tr><td>1</td><td>0</td><td>1</td></tr>\n",
       "\t<tr><td>1</td><td>0</td><td>1</td></tr>\n",
       "</tbody>\n",
       "</table>\n"
      ],
      "text/latex": [
       "A matrix: 16 × 3 of type dbl\n",
       "\\begin{tabular}{lll}\n",
       "\t 1 & 1 & 0\\\\\n",
       "\t 1 & 1 & 0\\\\\n",
       "\t 1 & 1 & 0\\\\\n",
       "\t 1 & 1 & 0\\\\\n",
       "\t 1 & 1 & 0\\\\\n",
       "\t 1 & 1 & 0\\\\\n",
       "\t 1 & 1 & 0\\\\\n",
       "\t 1 & 0 & 1\\\\\n",
       "\t 1 & 0 & 1\\\\\n",
       "\t 1 & 0 & 1\\\\\n",
       "\t 1 & 0 & 1\\\\\n",
       "\t 1 & 0 & 1\\\\\n",
       "\t 1 & 0 & 1\\\\\n",
       "\t 1 & 0 & 1\\\\\n",
       "\t 1 & 0 & 1\\\\\n",
       "\t 1 & 0 & 1\\\\\n",
       "\\end{tabular}\n"
      ],
      "text/markdown": [
       "\n",
       "A matrix: 16 × 3 of type dbl\n",
       "\n",
       "| 1 | 1 | 0 |\n",
       "| 1 | 1 | 0 |\n",
       "| 1 | 1 | 0 |\n",
       "| 1 | 1 | 0 |\n",
       "| 1 | 1 | 0 |\n",
       "| 1 | 1 | 0 |\n",
       "| 1 | 1 | 0 |\n",
       "| 1 | 0 | 1 |\n",
       "| 1 | 0 | 1 |\n",
       "| 1 | 0 | 1 |\n",
       "| 1 | 0 | 1 |\n",
       "| 1 | 0 | 1 |\n",
       "| 1 | 0 | 1 |\n",
       "| 1 | 0 | 1 |\n",
       "| 1 | 0 | 1 |\n",
       "| 1 | 0 | 1 |\n",
       "\n"
      ],
      "text/plain": [
       "      [,1] [,2] [,3]\n",
       " [1,] 1    1    0   \n",
       " [2,] 1    1    0   \n",
       " [3,] 1    1    0   \n",
       " [4,] 1    1    0   \n",
       " [5,] 1    1    0   \n",
       " [6,] 1    1    0   \n",
       " [7,] 1    1    0   \n",
       " [8,] 1    0    1   \n",
       " [9,] 1    0    1   \n",
       "[10,] 1    0    1   \n",
       "[11,] 1    0    1   \n",
       "[12,] 1    0    1   \n",
       "[13,] 1    0    1   \n",
       "[14,] 1    0    1   \n",
       "[15,] 1    0    1   \n",
       "[16,] 1    0    1   "
      ]
     },
     "metadata": {},
     "output_type": "display_data"
    }
   ],
   "source": [
    "ar1 <- matrix(c(1,1,0), 1)[rep(1,7), ]\n",
    "ar2 <- matrix(c(1,0,1), 1)[rep(1,9), ] \n",
    "A <- rbind(ar1, ar2)\n",
    "A\n",
    "Y <- c(0.37, 41.86, 0.27, 12.21, 12.92, 4.25, 8.35, 0, 0, 0, 6.4, 0, 0.014, 0, 0.569, 1.59)"
   ]
  },
  {
   "cell_type": "markdown",
   "metadata": {},
   "source": [
    "### Compute the generalized inverse of A.T A"
   ]
  },
  {
   "cell_type": "code",
   "execution_count": 2,
   "metadata": {},
   "outputs": [],
   "source": [
    "#install.packages('MASS')\n",
    "library(MASS)"
   ]
  },
  {
   "cell_type": "code",
   "execution_count": 3,
   "metadata": {},
   "outputs": [
    {
     "data": {
      "text/html": [
       "<table class=\"dataframe\">\n",
       "<caption>A matrix: 3 × 3 of type dbl</caption>\n",
       "<tbody>\n",
       "\t<tr><td>0.028218695</td><td> 0.01940035</td><td> 0.008818342</td></tr>\n",
       "\t<tr><td>0.019400353</td><td> 0.07583774</td><td>-0.056437390</td></tr>\n",
       "\t<tr><td>0.008818342</td><td>-0.05643739</td><td> 0.065255732</td></tr>\n",
       "</tbody>\n",
       "</table>\n"
      ],
      "text/latex": [
       "A matrix: 3 × 3 of type dbl\n",
       "\\begin{tabular}{lll}\n",
       "\t 0.028218695 &  0.01940035 &  0.008818342\\\\\n",
       "\t 0.019400353 &  0.07583774 & -0.056437390\\\\\n",
       "\t 0.008818342 & -0.05643739 &  0.065255732\\\\\n",
       "\\end{tabular}\n"
      ],
      "text/markdown": [
       "\n",
       "A matrix: 3 × 3 of type dbl\n",
       "\n",
       "| 0.028218695 |  0.01940035 |  0.008818342 |\n",
       "| 0.019400353 |  0.07583774 | -0.056437390 |\n",
       "| 0.008818342 | -0.05643739 |  0.065255732 |\n",
       "\n"
      ],
      "text/plain": [
       "     [,1]        [,2]        [,3]        \n",
       "[1,] 0.028218695  0.01940035  0.008818342\n",
       "[2,] 0.019400353  0.07583774 -0.056437390\n",
       "[3,] 0.008818342 -0.05643739  0.065255732"
      ]
     },
     "metadata": {},
     "output_type": "display_data"
    }
   ],
   "source": [
    "B = ginv(t(A)%*%A, tol=sqrt(.Machine$double.eps))\n",
    "B"
   ]
  },
  {
   "cell_type": "markdown",
   "metadata": {},
   "source": [
    "### Compute the estimator and its variance for β1 + β2. Give an interpretation of the result of the estimator in the context. Is Var(βˆ1 + βˆ2) unique?"
   ]
  },
  {
   "cell_type": "code",
   "execution_count": 4,
   "metadata": {},
   "outputs": [],
   "source": [
    "library(Matrix)"
   ]
  },
  {
   "cell_type": "code",
   "execution_count": 5,
   "metadata": {},
   "outputs": [],
   "source": [
    "C = matrix(data=c(1,1,0), nrow=1, byrow=T)\n"
   ]
  },
  {
   "cell_type": "code",
   "execution_count": 6,
   "metadata": {},
   "outputs": [
    {
     "data": {
      "text/html": [
       "<table class=\"dataframe\">\n",
       "<caption>A matrix: 1 × 16 of type dbl</caption>\n",
       "<tbody>\n",
       "\t<tr><td>0.1428571</td><td>0.1428571</td><td>0.1428571</td><td>0.1428571</td><td>0.1428571</td><td>0.1428571</td><td>0.1428571</td><td>-6.938894e-18</td><td>-6.938894e-18</td><td>-6.938894e-18</td><td>-6.938894e-18</td><td>-6.938894e-18</td><td>-6.938894e-18</td><td>-6.938894e-18</td><td>-6.938894e-18</td><td>-6.938894e-18</td></tr>\n",
       "</tbody>\n",
       "</table>\n"
      ],
      "text/latex": [
       "A matrix: 1 × 16 of type dbl\n",
       "\\begin{tabular}{llllllllllllllll}\n",
       "\t 0.1428571 & 0.1428571 & 0.1428571 & 0.1428571 & 0.1428571 & 0.1428571 & 0.1428571 & -6.938894e-18 & -6.938894e-18 & -6.938894e-18 & -6.938894e-18 & -6.938894e-18 & -6.938894e-18 & -6.938894e-18 & -6.938894e-18 & -6.938894e-18\\\\\n",
       "\\end{tabular}\n"
      ],
      "text/markdown": [
       "\n",
       "A matrix: 1 × 16 of type dbl\n",
       "\n",
       "| 0.1428571 | 0.1428571 | 0.1428571 | 0.1428571 | 0.1428571 | 0.1428571 | 0.1428571 | -6.938894e-18 | -6.938894e-18 | -6.938894e-18 | -6.938894e-18 | -6.938894e-18 | -6.938894e-18 | -6.938894e-18 | -6.938894e-18 | -6.938894e-18 |\n",
       "\n"
      ],
      "text/plain": [
       "     [,1]      [,2]      [,3]      [,4]      [,5]      [,6]      [,7]     \n",
       "[1,] 0.1428571 0.1428571 0.1428571 0.1428571 0.1428571 0.1428571 0.1428571\n",
       "     [,8]          [,9]          [,10]         [,11]         [,12]        \n",
       "[1,] -6.938894e-18 -6.938894e-18 -6.938894e-18 -6.938894e-18 -6.938894e-18\n",
       "     [,13]         [,14]         [,15]         [,16]        \n",
       "[1,] -6.938894e-18 -6.938894e-18 -6.938894e-18 -6.938894e-18"
      ]
     },
     "metadata": {},
     "output_type": "display_data"
    }
   ],
   "source": [
    "OLS1 = C %*% B %*% t(A)\n",
    "OLS1 # estimated coefficients for data vector y.\n"
   ]
  },
  {
   "cell_type": "markdown",
   "metadata": {},
   "source": [
    "\n",
    "When estimating y with $\\beta_1 + \\beta_2$ we get this coefficent-$\\hat{y}$-vector. As you can see for the first seven entries we get the same values because the first seven rows in the given matrix A are the same, they get the same weight: $\\frac{1}{numberRow_{1/.../7}} = \\frac{1}{7} = 0.14...$<br>\n",
    "Same counts for the last nine rows of A and the coefficent-$\\hat{y}$-vector entries which are rounded to 0. That makes sense because we have: $1 \\cdot \\beta_1 + 0 \\cdot \\beta_2 = \\hat{y}_{8/.../16}$. We need to ignore $\\beta_3$ here because it is not considered in $\\beta_1 + \\beta_2$. Therefore, $\\beta_1$ can't be estimated alone because the A matrix has rank 2 and the $\\beta_2$ gets weight 0 here. It follows that, $y_{8/.../16}$ get weight of 0 here.\n"
   ]
  },
  {
   "cell_type": "code",
   "execution_count": 7,
   "metadata": {},
   "outputs": [
    {
     "data": {
      "text/html": [
       "<table class=\"dataframe\">\n",
       "<caption>A matrix: 1 × 1 of type dbl</caption>\n",
       "<tbody>\n",
       "\t<tr><td>0.1428571</td></tr>\n",
       "</tbody>\n",
       "</table>\n"
      ],
      "text/latex": [
       "A matrix: 1 × 1 of type dbl\n",
       "\\begin{tabular}{l}\n",
       "\t 0.1428571\\\\\n",
       "\\end{tabular}\n"
      ],
      "text/markdown": [
       "\n",
       "A matrix: 1 × 1 of type dbl\n",
       "\n",
       "| 0.1428571 |\n",
       "\n"
      ],
      "text/plain": [
       "     [,1]     \n",
       "[1,] 0.1428571"
      ]
     },
     "metadata": {},
     "output_type": "display_data"
    }
   ],
   "source": [
    "var = C %*% B %*% t(C)\n",
    "var"
   ]
  },
  {
   "cell_type": "markdown",
   "metadata": {},
   "source": [
    "Its variance is unique as noted in the lecture. \n"
   ]
  },
  {
   "cell_type": "markdown",
   "metadata": {},
   "source": [
    "### Compute the estimator and its variance for β1 + β3. Give an interpretation of the result of the estimator in the context."
   ]
  },
  {
   "cell_type": "code",
   "execution_count": 8,
   "metadata": {},
   "outputs": [],
   "source": [
    "C2 = matrix(data=c(1,0,1), nrow=1, byrow=T)\n"
   ]
  },
  {
   "cell_type": "code",
   "execution_count": 9,
   "metadata": {},
   "outputs": [
    {
     "data": {
      "text/html": [
       "<table class=\"dataframe\">\n",
       "<caption>A matrix: 1 × 16 of type dbl</caption>\n",
       "<tbody>\n",
       "\t<tr><td>2.775558e-17</td><td>2.775558e-17</td><td>2.775558e-17</td><td>2.775558e-17</td><td>2.775558e-17</td><td>2.775558e-17</td><td>2.775558e-17</td><td>0.1111111</td><td>0.1111111</td><td>0.1111111</td><td>0.1111111</td><td>0.1111111</td><td>0.1111111</td><td>0.1111111</td><td>0.1111111</td><td>0.1111111</td></tr>\n",
       "</tbody>\n",
       "</table>\n"
      ],
      "text/latex": [
       "A matrix: 1 × 16 of type dbl\n",
       "\\begin{tabular}{llllllllllllllll}\n",
       "\t 2.775558e-17 & 2.775558e-17 & 2.775558e-17 & 2.775558e-17 & 2.775558e-17 & 2.775558e-17 & 2.775558e-17 & 0.1111111 & 0.1111111 & 0.1111111 & 0.1111111 & 0.1111111 & 0.1111111 & 0.1111111 & 0.1111111 & 0.1111111\\\\\n",
       "\\end{tabular}\n"
      ],
      "text/markdown": [
       "\n",
       "A matrix: 1 × 16 of type dbl\n",
       "\n",
       "| 2.775558e-17 | 2.775558e-17 | 2.775558e-17 | 2.775558e-17 | 2.775558e-17 | 2.775558e-17 | 2.775558e-17 | 0.1111111 | 0.1111111 | 0.1111111 | 0.1111111 | 0.1111111 | 0.1111111 | 0.1111111 | 0.1111111 | 0.1111111 |\n",
       "\n"
      ],
      "text/plain": [
       "     [,1]         [,2]         [,3]         [,4]         [,5]        \n",
       "[1,] 2.775558e-17 2.775558e-17 2.775558e-17 2.775558e-17 2.775558e-17\n",
       "     [,6]         [,7]         [,8]      [,9]      [,10]     [,11]    \n",
       "[1,] 2.775558e-17 2.775558e-17 0.1111111 0.1111111 0.1111111 0.1111111\n",
       "     [,12]     [,13]     [,14]     [,15]     [,16]    \n",
       "[1,] 0.1111111 0.1111111 0.1111111 0.1111111 0.1111111"
      ]
     },
     "metadata": {},
     "output_type": "display_data"
    }
   ],
   "source": [
    "OLS2 = C2 %*% B %*% t(A)\n",
    "OLS2 # estimated coefficients for data vector y.\n"
   ]
  },
  {
   "cell_type": "markdown",
   "metadata": {},
   "source": [
    "Same interpretation and explanation as above but here reversed order because A[row=8/.../16] = [1,0,1] such that $\\beta_1$ and $ \\beta_3$ are considered and $\\beta_2$ ignored. Because all the latter described rows of A are the same, the coefficients for y have all the same weights $\\frac{1}{numberRow_{8/.../16})} = \\frac{1}{9} = 0.11...$<br>.\n",
    "A[row=1/.../7] can't be estimated by the current parameter sum. Therefore, here we observe a weight of 0 for the y-entries. "
   ]
  },
  {
   "cell_type": "code",
   "execution_count": 10,
   "metadata": {},
   "outputs": [
    {
     "data": {
      "text/html": [
       "<table class=\"dataframe\">\n",
       "<caption>A matrix: 1 × 1 of type dbl</caption>\n",
       "<tbody>\n",
       "\t<tr><td>0.1111111</td></tr>\n",
       "</tbody>\n",
       "</table>\n"
      ],
      "text/latex": [
       "A matrix: 1 × 1 of type dbl\n",
       "\\begin{tabular}{l}\n",
       "\t 0.1111111\\\\\n",
       "\\end{tabular}\n"
      ],
      "text/markdown": [
       "\n",
       "A matrix: 1 × 1 of type dbl\n",
       "\n",
       "| 0.1111111 |\n",
       "\n"
      ],
      "text/plain": [
       "     [,1]     \n",
       "[1,] 0.1111111"
      ]
     },
     "metadata": {},
     "output_type": "display_data"
    }
   ],
   "source": [
    "var = C2 %*% B %*% t(C2)\n",
    "var\n"
   ]
  },
  {
   "cell_type": "markdown",
   "metadata": {},
   "source": [
    "## Task 2"
   ]
  },
  {
   "cell_type": "markdown",
   "metadata": {},
   "source": [
    "Let's go through my thinking procedure. On the first glance the formula seems to fit but the assumption of homoscedasticity of errors changed my mind.<br>\n",
    "Given: $\\sigma^2 ?= \\frac{\\sum_{i=1}^n{(y_i - \\hat{\\beta_1}- \\hat{\\beta_i})^2}}{n-rank(X)} = \n",
    "\\frac{\\sum_{i=1}^n{(y_i - (\\hat{\\beta_1}+ \\hat{\\beta_i}))^2}}{3-rank(A)} =\n",
    "\\frac{(y_2 - ( \\hat{\\beta_1} +\\hat{\\beta_2}))^2 + (y_3 -( \\hat{\\beta_1}+ \\hat{\\beta_3}))^2}{16-2}$ "
   ]
  },
  {
   "cell_type": "markdown",
   "metadata": {},
   "source": [
    "So far so good. $y_2$ refers to all y-values whos x-values got a weight > 0 by $(\\hat{\\beta_1}+ \\hat{\\beta_2})$. Same counts for $y_3$. <br>\n",
    "We have all values of the variables and ols in $(y_2 - (\\hat{\\beta_1}+ \\hat{\\beta_2}))^2 + (y_3 - (\\hat{\\beta_1}+ \\hat{\\beta_3}))^2$. It could be easy to caculate a value from it. Furthermore, the lecture slides also include X in this formula like this: $(y_2 - X(\\hat{\\beta_1}+ \\hat{\\beta_2}))^2 + (y_3 - X(\\hat{\\beta_1}+ \\hat{\\beta_3}))^2$. X is our matrix A and only contains 1- and 0-values. So, this is fine because it nothing changes at our given formula. <br>"
   ]
  },
  {
   "cell_type": "markdown",
   "metadata": {},
   "source": [
    "What is the problem then? We have the assumption of homoscedasticity of errors. That means that residuals have always about the same size (no significant difference between them) related to the model. For the error matrix we have as small example: $\\epsilon =\\sigma^2  \\left[  \\begin{matrix}\n",
    "  1 & 0\\\\\n",
    "  0 & 1\n",
    "  \\end{matrix} \\right]$.<br> Also we have: $Var(\\epsilon_i)=x_i\\sigma^2$.<br>\n",
    "$\\sigma^2$ has to stay always the same! But we have two different ols models to explain the same y. $(\\hat{\\beta_1}+ \\hat{\\beta_2})$ related to seven rows of A and $(\\hat{\\beta_1}+ \\hat{\\beta_3})$ to nine rows such that they gave different weights to the affected lines in estimated coefficients vector y which are also their variances. \n",
    "\n"
   ]
  },
  {
   "cell_type": "code",
   "execution_count": 11,
   "metadata": {},
   "outputs": [
    {
     "data": {
      "text/html": [
       "<style>\n",
       ".list-inline {list-style: none; margin:0; padding: 0}\n",
       ".list-inline>li {display: inline-block}\n",
       ".list-inline>li:not(:last-child)::after {content: \"\\00b7\"; padding: 0 .5ex}\n",
       "</style>\n",
       "<ol class=list-inline><li>0.0515938775510204</li><li>1740.32000816326</li><li>0.016165306122449</li><li>145.615936734694</li><li>163.255379591837</li><li>16.8686224489796</li><li>67.357193877551</li></ol>\n"
      ],
      "text/latex": [
       "\\begin{enumerate*}\n",
       "\\item 0.0515938775510204\n",
       "\\item 1740.32000816326\n",
       "\\item 0.016165306122449\n",
       "\\item 145.615936734694\n",
       "\\item 163.255379591837\n",
       "\\item 16.8686224489796\n",
       "\\item 67.357193877551\n",
       "\\end{enumerate*}\n"
      ],
      "text/markdown": [
       "1. 0.0515938775510204\n",
       "2. 1740.32000816326\n",
       "3. 0.016165306122449\n",
       "4. 145.615936734694\n",
       "5. 163.255379591837\n",
       "6. 16.8686224489796\n",
       "7. 67.357193877551\n",
       "\n",
       "\n"
      ],
      "text/plain": [
       "[1] 5.159388e-02 1.740320e+03 1.616531e-02 1.456159e+02 1.632554e+02\n",
       "[6] 1.686862e+01 6.735719e+01"
      ]
     },
     "metadata": {},
     "output_type": "display_data"
    }
   ],
   "source": [
    "(Y[1:7] - OLS1[1:7])^2 # (y_2 - (\\hat{\\beta_1}+ \\hat{\\beta_2}))^2"
   ]
  },
  {
   "cell_type": "code",
   "execution_count": 12,
   "metadata": {},
   "outputs": [
    {
     "data": {
      "text/html": [
       "<style>\n",
       ".list-inline {list-style: none; margin:0; padding: 0}\n",
       ".list-inline>li {display: inline-block}\n",
       ".list-inline>li:not(:last-child)::after {content: \"\\00b7\"; padding: 0 .5ex}\n",
       "</style>\n",
       "<ol class=list-inline><li>0.0123456790123457</li><li>0.0123456790123457</li><li>0.0123456790123457</li><li>39.5501234567901</li><li>0.0123456790123457</li><li>0.00943056790123456</li><li>0.0123456790123457</li><li>0.209662234567901</li><li>2.18711234567901</li></ol>\n"
      ],
      "text/latex": [
       "\\begin{enumerate*}\n",
       "\\item 0.0123456790123457\n",
       "\\item 0.0123456790123457\n",
       "\\item 0.0123456790123457\n",
       "\\item 39.5501234567901\n",
       "\\item 0.0123456790123457\n",
       "\\item 0.00943056790123456\n",
       "\\item 0.0123456790123457\n",
       "\\item 0.209662234567901\n",
       "\\item 2.18711234567901\n",
       "\\end{enumerate*}\n"
      ],
      "text/markdown": [
       "1. 0.0123456790123457\n",
       "2. 0.0123456790123457\n",
       "3. 0.0123456790123457\n",
       "4. 39.5501234567901\n",
       "5. 0.0123456790123457\n",
       "6. 0.00943056790123456\n",
       "7. 0.0123456790123457\n",
       "8. 0.209662234567901\n",
       "9. 2.18711234567901\n",
       "\n",
       "\n"
      ],
      "text/plain": [
       "[1]  0.012345679  0.012345679  0.012345679 39.550123457  0.012345679\n",
       "[6]  0.009430568  0.012345679  0.209662235  2.187112346"
      ]
     },
     "metadata": {},
     "output_type": "display_data"
    }
   ],
   "source": [
    "(Y[8:16] - OLS2[8:16])^2 #(y_3 - (\\hat{\\beta_1}+ \\hat{\\beta_3}))^2"
   ]
  },
  {
   "cell_type": "markdown",
   "metadata": {},
   "source": [
    "When using the formula even the lengths differ. Also the values are obviously different.<br><br>\n",
    "Answer: no"
   ]
  },
  {
   "cell_type": "markdown",
   "metadata": {},
   "source": [
    "## Task 3"
   ]
  },
  {
   "cell_type": "code",
   "execution_count": 13,
   "metadata": {},
   "outputs": [],
   "source": [
    "library(nortest)"
   ]
  },
  {
   "cell_type": "markdown",
   "metadata": {},
   "source": [
    "Compute the residuals. A is our design matrix. With:\n",
    "\\begin{align*}\n",
    "Y_{1/.../7} &= X_{1/.../7 }(\\beta_1 , \\beta_2, \\beta_3)^T + \\epsilon \\\\\n",
    "&= \\left[  \\begin{matrix}\n",
    "  1 \\beta_1 + 1 \\beta_2 + 0 \\beta_3\\\\\n",
    "  ...\n",
    "  \\end{matrix} \\right] + \\epsilon \\\\\n",
    "&=  \\left[  \\begin{matrix}\n",
    "  \\beta_1 + \\beta_2\\\\\n",
    "  ...\n",
    "  \\end{matrix} \\right] + \\epsilon \\\\\n",
    "&=  \\left[  \\begin{matrix}\n",
    "  0.1428571\\\\\n",
    "  ...\n",
    "  \\end{matrix} \\right] + \\epsilon \\\\ \n",
    "  \\\\\n",
    "  \\\\\n",
    "\\epsilon &= Y_{1/.../7} - \\left[  \\begin{matrix}\n",
    "  0.1428571\\\\\n",
    "  ...\n",
    "  \\end{matrix} \\right] \\\\ \n",
    "\\end{align*}"
   ]
  },
  {
   "cell_type": "code",
   "execution_count": 14,
   "metadata": {},
   "outputs": [
    {
     "data": {
      "text/html": [
       "<table class=\"dataframe\">\n",
       "<caption>A matrix: 7 × 1 of type dbl</caption>\n",
       "<tbody>\n",
       "\t<tr><td> 0.2271429</td></tr>\n",
       "\t<tr><td>41.7171429</td></tr>\n",
       "\t<tr><td> 0.1271429</td></tr>\n",
       "\t<tr><td>12.0671429</td></tr>\n",
       "\t<tr><td>12.7771429</td></tr>\n",
       "\t<tr><td> 4.1071429</td></tr>\n",
       "\t<tr><td> 8.2071429</td></tr>\n",
       "</tbody>\n",
       "</table>\n"
      ],
      "text/latex": [
       "A matrix: 7 × 1 of type dbl\n",
       "\\begin{tabular}{l}\n",
       "\t  0.2271429\\\\\n",
       "\t 41.7171429\\\\\n",
       "\t  0.1271429\\\\\n",
       "\t 12.0671429\\\\\n",
       "\t 12.7771429\\\\\n",
       "\t  4.1071429\\\\\n",
       "\t  8.2071429\\\\\n",
       "\\end{tabular}\n"
      ],
      "text/markdown": [
       "\n",
       "A matrix: 7 × 1 of type dbl\n",
       "\n",
       "|  0.2271429 |\n",
       "| 41.7171429 |\n",
       "|  0.1271429 |\n",
       "| 12.0671429 |\n",
       "| 12.7771429 |\n",
       "|  4.1071429 |\n",
       "|  8.2071429 |\n",
       "\n"
      ],
      "text/plain": [
       "     [,1]      \n",
       "[1,]  0.2271429\n",
       "[2,] 41.7171429\n",
       "[3,]  0.1271429\n",
       "[4,] 12.0671429\n",
       "[5,] 12.7771429\n",
       "[6,]  4.1071429\n",
       "[7,]  8.2071429"
      ]
     },
     "metadata": {},
     "output_type": "display_data"
    }
   ],
   "source": [
    "Y1 <- matrix(Y[1:7])\n",
    "resi1 <- Y1 -  matrix(OLS1[1:7])\n",
    "resi1"
   ]
  },
  {
   "cell_type": "code",
   "execution_count": 15,
   "metadata": {},
   "outputs": [
    {
     "data": {
      "text/html": [
       "<table class=\"dataframe\">\n",
       "<caption>A matrix: 9 × 1 of type dbl</caption>\n",
       "<tbody>\n",
       "\t<tr><td>-0.11111111</td></tr>\n",
       "\t<tr><td>-0.11111111</td></tr>\n",
       "\t<tr><td>-0.11111111</td></tr>\n",
       "\t<tr><td> 6.28888889</td></tr>\n",
       "\t<tr><td>-0.11111111</td></tr>\n",
       "\t<tr><td>-0.09711111</td></tr>\n",
       "\t<tr><td>-0.11111111</td></tr>\n",
       "\t<tr><td> 0.45788889</td></tr>\n",
       "\t<tr><td> 1.47888889</td></tr>\n",
       "</tbody>\n",
       "</table>\n"
      ],
      "text/latex": [
       "A matrix: 9 × 1 of type dbl\n",
       "\\begin{tabular}{l}\n",
       "\t -0.11111111\\\\\n",
       "\t -0.11111111\\\\\n",
       "\t -0.11111111\\\\\n",
       "\t  6.28888889\\\\\n",
       "\t -0.11111111\\\\\n",
       "\t -0.09711111\\\\\n",
       "\t -0.11111111\\\\\n",
       "\t  0.45788889\\\\\n",
       "\t  1.47888889\\\\\n",
       "\\end{tabular}\n"
      ],
      "text/markdown": [
       "\n",
       "A matrix: 9 × 1 of type dbl\n",
       "\n",
       "| -0.11111111 |\n",
       "| -0.11111111 |\n",
       "| -0.11111111 |\n",
       "|  6.28888889 |\n",
       "| -0.11111111 |\n",
       "| -0.09711111 |\n",
       "| -0.11111111 |\n",
       "|  0.45788889 |\n",
       "|  1.47888889 |\n",
       "\n"
      ],
      "text/plain": [
       "      [,1]       \n",
       " [1,] -0.11111111\n",
       " [2,] -0.11111111\n",
       " [3,] -0.11111111\n",
       " [4,]  6.28888889\n",
       " [5,] -0.11111111\n",
       " [6,] -0.09711111\n",
       " [7,] -0.11111111\n",
       " [8,]  0.45788889\n",
       " [9,]  1.47888889"
      ]
     },
     "metadata": {},
     "output_type": "display_data"
    }
   ],
   "source": [
    "Y2 <- matrix(Y[8:16])\n",
    "resi2 <- Y2 -  matrix(OLS2[8:16])\n",
    "resi2"
   ]
  },
  {
   "cell_type": "code",
   "execution_count": 16,
   "metadata": {},
   "outputs": [],
   "source": [
    "residuals_ <- rbind(resi1,resi2)"
   ]
  },
  {
   "cell_type": "code",
   "execution_count": 17,
   "metadata": {},
   "outputs": [],
   "source": [
    "# 1. Anderson_Darling test for normality:\n",
    "p1 <- ad.test(residuals_)$p.value\n",
    "# 2. Cramer-von Mises test for normality:\n",
    "p2 <- cvm.test(residuals_)$p.value\n",
    "# 3. Lilliefors (Kolmogorov-Smirnov) test for normality:\n",
    "p3 <- lillie.test(residuals_)$p.value\n",
    "# 4. Pearson chi-square test for normality:\n",
    "p4 <- pearson.test(residuals_, n.classes=length(residuals_))$p.value\n",
    "# 5. Shapiro_Francia test for normality:\n",
    "p5 <- sf.test(residuals_)$p.value\n",
    "p_average <- (p1+p2+p3+p4+p5)/5"
   ]
  },
  {
   "cell_type": "code",
   "execution_count": 18,
   "metadata": {},
   "outputs": [
    {
     "data": {
      "text/html": [
       "1.78130780693586e-06"
      ],
      "text/latex": [
       "1.78130780693586e-06"
      ],
      "text/markdown": [
       "1.78130780693586e-06"
      ],
      "text/plain": [
       "[1] 1.781308e-06"
      ]
     },
     "metadata": {},
     "output_type": "display_data"
    },
    {
     "data": {
      "text/html": [
       "9.32217468717539e-06"
      ],
      "text/latex": [
       "9.32217468717539e-06"
      ],
      "text/markdown": [
       "9.32217468717539e-06"
      ],
      "text/plain": [
       "[1] 9.322175e-06"
      ]
     },
     "metadata": {},
     "output_type": "display_data"
    },
    {
     "data": {
      "text/html": [
       "0.000390546649535993"
      ],
      "text/latex": [
       "0.000390546649535993"
      ],
      "text/markdown": [
       "0.000390546649535993"
      ],
      "text/plain": [
       "[1] 0.0003905466"
      ]
     },
     "metadata": {},
     "output_type": "display_data"
    },
    {
     "data": {
      "text/html": [
       "6.54301579313585e-06"
      ],
      "text/latex": [
       "6.54301579313585e-06"
      ],
      "text/markdown": [
       "6.54301579313585e-06"
      ],
      "text/plain": [
       "[1] 6.543016e-06"
      ]
     },
     "metadata": {},
     "output_type": "display_data"
    },
    {
     "data": {
      "text/html": [
       "2.414225081421e-05"
      ],
      "text/latex": [
       "2.414225081421e-05"
      ],
      "text/markdown": [
       "2.414225081421e-05"
      ],
      "text/plain": [
       "[1] 2.414225e-05"
      ]
     },
     "metadata": {},
     "output_type": "display_data"
    },
    {
     "data": {
      "text/html": [
       "8.646707972749e-05"
      ],
      "text/latex": [
       "8.646707972749e-05"
      ],
      "text/markdown": [
       "8.646707972749e-05"
      ],
      "text/plain": [
       "[1] 8.646708e-05"
      ]
     },
     "metadata": {},
     "output_type": "display_data"
    }
   ],
   "source": [
    "p1\n",
    "p2\n",
    "p3\n",
    "p4\n",
    "p5\n",
    "p_average"
   ]
  },
  {
   "cell_type": "markdown",
   "metadata": {},
   "source": [
    "The tests refer to the composite hypothesis of normality of the inputted x (here residuals).\n",
    "All p < significance_level = 0.05 which means that we can reject the nullhypothesis that the residuals come from a normal distribution. We can integrate that knowledge\n",
    "when creating a second better fitting model."
   ]
  },
  {
   "cell_type": "markdown",
   "metadata": {},
   "source": [
    "We can also look at the Komogorov-Smirnov test with which we can look if there is a difference between our residuals and a normal distribution."
   ]
  },
  {
   "cell_type": "code",
   "execution_count": 19,
   "metadata": {},
   "outputs": [
    {
     "data": {
      "text/plain": [
       "\n",
       "\tOne-sample Kolmogorov-Smirnov test\n",
       "\n",
       "data:  residuals_removed_duplicates\n",
       "D = 0.51375, p-value = 0.001822\n",
       "alternative hypothesis: two-sided\n"
      ]
     },
     "metadata": {},
     "output_type": "display_data"
    }
   ],
   "source": [
    "residuals_removed_duplicates <- residuals_[!duplicated(residuals_), ] # remove the duplicates, else the \n",
    "# test won't work\n",
    "k1<-ks.test(residuals_removed_duplicates,\"pnorm\") # test if samples come from normal distribution\n",
    "k1"
   ]
  },
  {
   "cell_type": "markdown",
   "metadata": {},
   "source": [
    "p < 0.01 < 0.05. When this happens we can reject the null-hypothesis which says that there is NO difference between a subsample set and a normal distribution. So, indeed we assume that there is a difference between our residuals and normal distribution."
   ]
  },
  {
   "cell_type": "markdown",
   "metadata": {},
   "source": [
    "The results give us a reason to assume the hyothesis that the residuals aren't normally distributed."
   ]
  },
  {
   "cell_type": "code",
   "execution_count": null,
   "metadata": {},
   "outputs": [],
   "source": []
  }
 ],
 "metadata": {
  "kernelspec": {
   "display_name": "R",
   "language": "R",
   "name": "ir"
  },
  "language_info": {
   "codemirror_mode": "r",
   "file_extension": ".r",
   "mimetype": "text/x-r-source",
   "name": "R",
   "pygments_lexer": "r",
   "version": "3.6.3"
  }
 },
 "nbformat": 4,
 "nbformat_minor": 2
}
