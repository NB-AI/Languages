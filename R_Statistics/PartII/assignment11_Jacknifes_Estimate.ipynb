{
 "cells": [
  {
   "cell_type": "markdown",
   "metadata": {},
   "source": [
    "# Homework 11 - 22.01.22 - Nina Braunmiller - k11923286"
   ]
  },
  {
   "cell_type": "markdown",
   "metadata": {},
   "source": [
    "## Task 1"
   ]
  },
  {
   "cell_type": "markdown",
   "metadata": {},
   "source": [
    "### a) estimate the bias"
   ]
  },
  {
   "cell_type": "code",
   "execution_count": 13,
   "metadata": {},
   "outputs": [
    {
     "name": "stderr",
     "output_type": "stream",
     "text": [
      "Installing package into ‘/home/c/R/x86_64-pc-linux-gnu-library/3.6’\n",
      "(as ‘lib’ is unspecified)\n",
      "\n"
     ]
    }
   ],
   "source": [
    "#install.packages('Metrics')\n",
    "library(Metrics)"
   ]
  },
  {
   "cell_type": "code",
   "execution_count": 18,
   "metadata": {},
   "outputs": [],
   "source": [
    "data <- c(1.81, -0.4, -1.1, -0.63, 0.3, 0.37)\n",
    "true_sigma_squared <- 1\n",
    "\n",
    "mean_data <- mean(data)\n",
    "\n",
    "sigma_ML_squared <- function(x, mean_x)\n",
    "            {estimated_value <- sum((x - mean_x)^2)/length(x);\n",
    "            return(estimated_value)}"
   ]
  },
  {
   "cell_type": "code",
   "execution_count": 19,
   "metadata": {},
   "outputs": [
    {
     "data": {
      "text/html": [
       "0.125086111111111"
      ],
      "text/latex": [
       "0.125086111111111"
      ],
      "text/markdown": [
       "0.125086111111111"
      ],
      "text/plain": [
       "[1] 0.1250861"
      ]
     },
     "metadata": {},
     "output_type": "display_data"
    }
   ],
   "source": [
    "sigma_ML_squared_calculated <- sigma_ML_squared(data, mean_data)\n",
    "\n",
    "bias(true_sigma_squared, sigma_ML_squared_calculated) # same as: true_value - estimated_value"
   ]
  },
  {
   "cell_type": "markdown",
   "metadata": {},
   "source": [
    "### b) create jackknifed $\\sigma^2$"
   ]
  },
  {
   "cell_type": "code",
   "execution_count": 77,
   "metadata": {},
   "outputs": [],
   "source": [
    "# Tukey's jackknife estimator of variance of T: \n",
    "sigma_jack_squared_2 <- function(x, mean_x) # with T_n^* = x_n and T = mean_data\n",
    "            {\n",
    "             N <- length(data);\n",
    "            to_multiply <- (N-1)/N;\n",
    "    \n",
    "            T <- mean(data);\n",
    "            T_minusn_all <-(N*T - data) / (N-1);\n",
    "        \n",
    "            T_bar_dot <- mean(T_minusn_all);\n",
    "    \n",
    "            est_var <- to_multiply * sum(  (T_minusn_all - T_bar_dot)^2  );\n",
    "     \n",
    "            return(est_var)\n",
    "            }\n",
    "       "
   ]
  },
  {
   "cell_type": "code",
   "execution_count": 78,
   "metadata": {},
   "outputs": [],
   "source": [
    "sigma_jack_squared_calculated_2 <- sigma_jack_squared_2(data, mean_data)"
   ]
  },
  {
   "cell_type": "code",
   "execution_count": 79,
   "metadata": {},
   "outputs": [
    {
     "data": {
      "text/html": [
       "0.825017222222222"
      ],
      "text/latex": [
       "0.825017222222222"
      ],
      "text/markdown": [
       "0.825017222222222"
      ],
      "text/plain": [
       "[1] 0.8250172"
      ]
     },
     "metadata": {},
     "output_type": "display_data"
    }
   ],
   "source": [
    "bias(true_sigma_squared, sigma_jack_squared_calculated_2)"
   ]
  },
  {
   "cell_type": "markdown",
   "metadata": {},
   "source": [
    "## Task 2"
   ]
  },
  {
   "cell_type": "code",
   "execution_count": 29,
   "metadata": {},
   "outputs": [],
   "source": [
    "LSAT <- c(576, 635, 558, 578, 666, 580, 555, 661, 651, 605, 653, 575, 545, 572, 594)\n",
    "GPA <- c(3.39, 3.30, 2.81, 3.03, 3.44, 3.07, 3.00, 3.43, 3.36, 3.13, 3.12, 2.74, 2.76, 2.88, 3.96)"
   ]
  },
  {
   "cell_type": "markdown",
   "metadata": {},
   "source": [
    "### a) get the pearson correlation"
   ]
  },
  {
   "cell_type": "code",
   "execution_count": 30,
   "metadata": {},
   "outputs": [
    {
     "data": {
      "text/html": [
       "0.545918916179588"
      ],
      "text/latex": [
       "0.545918916179588"
      ],
      "text/markdown": [
       "0.545918916179588"
      ],
      "text/plain": [
       "[1] 0.5459189"
      ]
     },
     "metadata": {},
     "output_type": "display_data"
    }
   ],
   "source": [
    "cor(LSAT, GPA)"
   ]
  },
  {
   "cell_type": "markdown",
   "metadata": {},
   "source": [
    "### b) Jacknife's Estimate of standard error"
   ]
  },
  {
   "cell_type": "code",
   "execution_count": 75,
   "metadata": {},
   "outputs": [],
   "source": [
    "# Let's use again group size k=1, number groups r=N\n",
    "standard_error_jack <- function(data, d)\n",
    "    {\n",
    "    N <- length(data);\n",
    "    bin_setting <-factorial(N)/(factorial(N-d)*factorial(d));\n",
    "    to_multiply <- (N-d)/d*(bin_setting);\n",
    "    \n",
    "    T <- mean(data);\n",
    "    T_minusn_all <-(N*T - data) / (N-1);\n",
    "     \n",
    "    \n",
    "    T_bar_dot <- mean(T_minusn_all);\n",
    "    \n",
    "    est_standard_error <- (to_multiply * sum( (T_minusn_all-T_bar_dot)^2  )   )    ^(0.5);\n",
    "     \n",
    "    return(est_standard_error)\n",
    "    }"
   ]
  },
  {
   "cell_type": "code",
   "execution_count": 76,
   "metadata": {},
   "outputs": [
    {
     "name": "stdout",
     "output_type": "stream",
     "text": [
      "[1] \"jacknife's standard error 2.50985656960712 for d = 1\"\n",
      "[1] \"jacknife's standard error 2.50985656960712 for d = 2\"\n",
      "[1] \"jacknife's standard error 2.0492893077032 for d = 3\"\n",
      "[1] \"jacknife's standard error 1.25492828480356 for d = 4\"\n",
      "[1] \"jacknife's standard error 0.501971313921423 for d = 5\"\n"
     ]
    }
   ],
   "source": [
    "# get standard error for different d:\n",
    "d <- 1\n",
    "while(d<length(data))\n",
    "    {\n",
    "    standard_error_jack_calculated <- standard_error_jack(data, d);\n",
    "    print(paste('jacknife\\'s standard error', standard_error_jack_calculated, 'for d =', d)); \n",
    "    d <- d + 1\n",
    "    }"
   ]
  },
  {
   "cell_type": "code",
   "execution_count": null,
   "metadata": {},
   "outputs": [],
   "source": []
  }
 ],
 "metadata": {
  "kernelspec": {
   "display_name": "R",
   "language": "R",
   "name": "ir"
  },
  "language_info": {
   "codemirror_mode": "r",
   "file_extension": ".r",
   "mimetype": "text/x-r-source",
   "name": "R",
   "pygments_lexer": "r",
   "version": "3.6.3"
  }
 },
 "nbformat": 4,
 "nbformat_minor": 2
}
