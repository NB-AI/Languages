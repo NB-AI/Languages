{
 "cells": [
  {
   "cell_type": "markdown",
   "metadata": {},
   "source": [
    "# Homework 9 - Nina Braunmiller k11923286 - 06.12.21"
   ]
  },
  {
   "cell_type": "markdown",
   "metadata": {},
   "source": [
    "## Task 1"
   ]
  },
  {
   "cell_type": "markdown",
   "metadata": {},
   "source": [
    "### a) Generalized inverse A.T A"
   ]
  },
  {
   "cell_type": "code",
   "execution_count": 1,
   "metadata": {
    "scrolled": true
   },
   "outputs": [],
   "source": [
    "#install.packages('MASS')"
   ]
  },
  {
   "cell_type": "code",
   "execution_count": 2,
   "metadata": {},
   "outputs": [],
   "source": [
    "library(MASS)\n"
   ]
  },
  {
   "cell_type": "code",
   "execution_count": 3,
   "metadata": {},
   "outputs": [],
   "source": [
    "A = cbind(c(1,1,1,1,1,1),c(1,1,1,0,0,0),c(0,0,0,1,1,1))\n"
   ]
  },
  {
   "cell_type": "code",
   "execution_count": 4,
   "metadata": {},
   "outputs": [
    {
     "data": {
      "text/html": [
       "<table class=\"dataframe\">\n",
       "<caption>A matrix: 3 × 3 of type dbl</caption>\n",
       "<tbody>\n",
       "\t<tr><td>6</td><td>3</td><td>3</td></tr>\n",
       "\t<tr><td>3</td><td>3</td><td>0</td></tr>\n",
       "\t<tr><td>3</td><td>0</td><td>3</td></tr>\n",
       "</tbody>\n",
       "</table>\n"
      ],
      "text/latex": [
       "A matrix: 3 × 3 of type dbl\n",
       "\\begin{tabular}{lll}\n",
       "\t 6 & 3 & 3\\\\\n",
       "\t 3 & 3 & 0\\\\\n",
       "\t 3 & 0 & 3\\\\\n",
       "\\end{tabular}\n"
      ],
      "text/markdown": [
       "\n",
       "A matrix: 3 × 3 of type dbl\n",
       "\n",
       "| 6 | 3 | 3 |\n",
       "| 3 | 3 | 0 |\n",
       "| 3 | 0 | 3 |\n",
       "\n"
      ],
      "text/plain": [
       "     [,1] [,2] [,3]\n",
       "[1,] 6    3    3   \n",
       "[2,] 3    3    0   \n",
       "[3,] 3    0    3   "
      ]
     },
     "metadata": {},
     "output_type": "display_data"
    }
   ],
   "source": [
    "t(A) %*% A\n"
   ]
  },
  {
   "cell_type": "code",
   "execution_count": 5,
   "metadata": {},
   "outputs": [],
   "source": [
    "B = ginv(t(A)%*%A, tol=sqrt(.Machine$double.eps))\n"
   ]
  },
  {
   "cell_type": "code",
   "execution_count": 6,
   "metadata": {},
   "outputs": [
    {
     "data": {
      "text/html": [
       "<table class=\"dataframe\">\n",
       "<caption>A matrix: 3 × 3 of type dbl</caption>\n",
       "<tbody>\n",
       "\t<tr><td>0.07407407</td><td> 0.03703704</td><td> 0.03703704</td></tr>\n",
       "\t<tr><td>0.03703704</td><td> 0.18518519</td><td>-0.14814815</td></tr>\n",
       "\t<tr><td>0.03703704</td><td>-0.14814815</td><td> 0.18518519</td></tr>\n",
       "</tbody>\n",
       "</table>\n"
      ],
      "text/latex": [
       "A matrix: 3 × 3 of type dbl\n",
       "\\begin{tabular}{lll}\n",
       "\t 0.07407407 &  0.03703704 &  0.03703704\\\\\n",
       "\t 0.03703704 &  0.18518519 & -0.14814815\\\\\n",
       "\t 0.03703704 & -0.14814815 &  0.18518519\\\\\n",
       "\\end{tabular}\n"
      ],
      "text/markdown": [
       "\n",
       "A matrix: 3 × 3 of type dbl\n",
       "\n",
       "| 0.07407407 |  0.03703704 |  0.03703704 |\n",
       "| 0.03703704 |  0.18518519 | -0.14814815 |\n",
       "| 0.03703704 | -0.14814815 |  0.18518519 |\n",
       "\n"
      ],
      "text/plain": [
       "     [,1]       [,2]        [,3]       \n",
       "[1,] 0.07407407  0.03703704  0.03703704\n",
       "[2,] 0.03703704  0.18518519 -0.14814815\n",
       "[3,] 0.03703704 -0.14814815  0.18518519"
      ]
     },
     "metadata": {},
     "output_type": "display_data"
    }
   ],
   "source": [
    "B\n"
   ]
  },
  {
   "cell_type": "markdown",
   "metadata": {},
   "source": [
    "### b) $\\beta_1 + \\beta_2 $"
   ]
  },
  {
   "cell_type": "markdown",
   "metadata": {},
   "source": [
    "A has rank of 2 but $\\beta$ has dimension of 3. However, here we only consider $\\beta_1 + \\beta_2$. This sum is estimatable. $\\beta_i$ for all i are not estimatable. With $\\beta_1$ and $\\beta_2$ no unique estimation of $y_1$. $P = X \\hat{\\beta}$ unique."
   ]
  },
  {
   "cell_type": "code",
   "execution_count": 7,
   "metadata": {},
   "outputs": [],
   "source": [
    "library(Matrix)\n"
   ]
  },
  {
   "cell_type": "code",
   "execution_count": 8,
   "metadata": {},
   "outputs": [],
   "source": [
    "C = matrix(data=c(1,1,0), nrow=1, byrow=T)\n"
   ]
  },
  {
   "cell_type": "code",
   "execution_count": 9,
   "metadata": {},
   "outputs": [
    {
     "data": {
      "text/html": [
       "<table class=\"dataframe\">\n",
       "<caption>A matrix: 1 × 6 of type dbl</caption>\n",
       "<tbody>\n",
       "\t<tr><td>0.3333333</td><td>0.3333333</td><td>0.3333333</td><td>4.163336e-17</td><td>4.163336e-17</td><td>4.163336e-17</td></tr>\n",
       "</tbody>\n",
       "</table>\n"
      ],
      "text/latex": [
       "A matrix: 1 × 6 of type dbl\n",
       "\\begin{tabular}{llllll}\n",
       "\t 0.3333333 & 0.3333333 & 0.3333333 & 4.163336e-17 & 4.163336e-17 & 4.163336e-17\\\\\n",
       "\\end{tabular}\n"
      ],
      "text/markdown": [
       "\n",
       "A matrix: 1 × 6 of type dbl\n",
       "\n",
       "| 0.3333333 | 0.3333333 | 0.3333333 | 4.163336e-17 | 4.163336e-17 | 4.163336e-17 |\n",
       "\n"
      ],
      "text/plain": [
       "     [,1]      [,2]      [,3]      [,4]         [,5]         [,6]        \n",
       "[1,] 0.3333333 0.3333333 0.3333333 4.163336e-17 4.163336e-17 4.163336e-17"
      ]
     },
     "metadata": {},
     "output_type": "display_data"
    }
   ],
   "source": [
    "OLS = C %*% B %*% t(A)\n",
    "OLS # estimated coefficients for data vector y.\n"
   ]
  },
  {
   "cell_type": "markdown",
   "metadata": {},
   "source": [
    "\n",
    "When estimating y with $\\beta_1 + \\beta_2$ we get this coefficent-$\\hat{y}$-vector. As you can see for the first three entries we get the same values because the first three rows in the given matrix A are the same, they get the same weight. \n",
    "Same counts for the last three rows of A and the coefficent-$\\hat{y}$-vector entries which are rounded to 0. That makes sense because we have: $1 \\cdot \\beta_1 + 0 \\cdot \\beta_2 = \\hat{y}_{4/5/6}$. We need to ignore $\\beta_3$ here because it is not considered in $\\beta_1 + \\beta_2$. Therefore, $\\beta_1$ can't be estimated alone because the A matrix has rank 2 and the $\\beta_2$ gets weight 0 here. It follows that,  $y_{4/5/6}$ get weight of 0 here.\n"
   ]
  },
  {
   "cell_type": "markdown",
   "metadata": {},
   "source": [
    "The precision error lies around $10^{-17}$, because we cannot estimate $y_{4/5/6}$ but get 4.163336e-17 instead of 4."
   ]
  },
  {
   "cell_type": "code",
   "execution_count": 10,
   "metadata": {},
   "outputs": [
    {
     "data": {
      "text/html": [
       "<table class=\"dataframe\">\n",
       "<caption>A matrix: 1 × 1 of type dbl</caption>\n",
       "<tbody>\n",
       "\t<tr><td>0.3333333</td></tr>\n",
       "</tbody>\n",
       "</table>\n"
      ],
      "text/latex": [
       "A matrix: 1 × 1 of type dbl\n",
       "\\begin{tabular}{l}\n",
       "\t 0.3333333\\\\\n",
       "\\end{tabular}\n"
      ],
      "text/markdown": [
       "\n",
       "A matrix: 1 × 1 of type dbl\n",
       "\n",
       "| 0.3333333 |\n",
       "\n"
      ],
      "text/plain": [
       "     [,1]     \n",
       "[1,] 0.3333333"
      ]
     },
     "metadata": {},
     "output_type": "display_data"
    }
   ],
   "source": [
    "var = C %*% B %*% t(C)\n",
    "var\n"
   ]
  },
  {
   "cell_type": "markdown",
   "metadata": {},
   "source": [
    "Its variance is unique as noted in the lecture. "
   ]
  },
  {
   "cell_type": "markdown",
   "metadata": {},
   "source": [
    "### c)  $\\beta_1 + \\beta_3 $"
   ]
  },
  {
   "cell_type": "code",
   "execution_count": 11,
   "metadata": {},
   "outputs": [],
   "source": [
    "C2 = matrix(data=c(1,0,1), nrow=1, byrow=T)\n"
   ]
  },
  {
   "cell_type": "code",
   "execution_count": 12,
   "metadata": {},
   "outputs": [
    {
     "data": {
      "text/html": [
       "<table class=\"dataframe\">\n",
       "<caption>A matrix: 1 × 6 of type dbl</caption>\n",
       "<tbody>\n",
       "\t<tr><td>5.551115e-17</td><td>5.551115e-17</td><td>5.551115e-17</td><td>0.3333333</td><td>0.3333333</td><td>0.3333333</td></tr>\n",
       "</tbody>\n",
       "</table>\n"
      ],
      "text/latex": [
       "A matrix: 1 × 6 of type dbl\n",
       "\\begin{tabular}{llllll}\n",
       "\t 5.551115e-17 & 5.551115e-17 & 5.551115e-17 & 0.3333333 & 0.3333333 & 0.3333333\\\\\n",
       "\\end{tabular}\n"
      ],
      "text/markdown": [
       "\n",
       "A matrix: 1 × 6 of type dbl\n",
       "\n",
       "| 5.551115e-17 | 5.551115e-17 | 5.551115e-17 | 0.3333333 | 0.3333333 | 0.3333333 |\n",
       "\n"
      ],
      "text/plain": [
       "     [,1]         [,2]         [,3]         [,4]      [,5]      [,6]     \n",
       "[1,] 5.551115e-17 5.551115e-17 5.551115e-17 0.3333333 0.3333333 0.3333333"
      ]
     },
     "metadata": {},
     "output_type": "display_data"
    }
   ],
   "source": [
    "OLS = C2 %*% B %*% t(A)\n",
    "OLS # estimated coefficients for data vector y.\n"
   ]
  },
  {
   "cell_type": "markdown",
   "metadata": {},
   "source": [
    "Same interpretation and explanation as in b) but here reversed order because A[row=4/5/6] = [1,0,1] such that $\\beta_1$ and $ \\beta_3$ are considered and $\\beta_2$ ignored. Because all the latter described rows of A are the same, the coefficients for y have all the same weights. A[row=1/2/3] can't be estimated by the current parameter sum. Therefore, here we observe a weight of 0 for the y-entries. "
   ]
  },
  {
   "cell_type": "code",
   "execution_count": 13,
   "metadata": {},
   "outputs": [
    {
     "data": {
      "text/html": [
       "<table class=\"dataframe\">\n",
       "<caption>A matrix: 1 × 1 of type dbl</caption>\n",
       "<tbody>\n",
       "\t<tr><td>0.3333333</td></tr>\n",
       "</tbody>\n",
       "</table>\n"
      ],
      "text/latex": [
       "A matrix: 1 × 1 of type dbl\n",
       "\\begin{tabular}{l}\n",
       "\t 0.3333333\\\\\n",
       "\\end{tabular}\n"
      ],
      "text/markdown": [
       "\n",
       "A matrix: 1 × 1 of type dbl\n",
       "\n",
       "| 0.3333333 |\n",
       "\n"
      ],
      "text/plain": [
       "     [,1]     \n",
       "[1,] 0.3333333"
      ]
     },
     "metadata": {},
     "output_type": "display_data"
    }
   ],
   "source": [
    "var = C2 %*% B %*% t(C2)\n",
    "var\n"
   ]
  },
  {
   "cell_type": "markdown",
   "metadata": {},
   "source": [
    "## Task 2 "
   ]
  },
  {
   "cell_type": "markdown",
   "metadata": {},
   "source": [
    "### Construct three singular matrices"
   ]
  },
  {
   "cell_type": "code",
   "execution_count": 14,
   "metadata": {},
   "outputs": [],
   "source": [
    "set.seed(11)\n",
    "singular_matrix <- function(rank)\n",
    "    {\n",
    "    singular <- matrix(sample(0:100,(rank+1)*(rank), replace=TRUE),nrow=(rank+1) )\n",
    "    # use the fact that every non-squared matrix is singular.\n",
    "\n",
    "    # check the rank of the matrix:\n",
    "    if(rankMatrix(singular)<rank)\n",
    "        {\n",
    "        while(rankMatrix(singular)<rank)\n",
    "            {\n",
    "            slicer <- rank\n",
    "            if (dim(singular_added)[1]<rank) # rank problem lies in rows\n",
    "                {slicer <- slicer +1}\n",
    "            \n",
    "            \n",
    "            adding1 <- singular[0:slicer] # the 0 is exclusive and isn't considered. The index 1/first element\n",
    "            # will be considered\n",
    "            adding2 <- singular[(rank+1):2*slicer]\n",
    "            adding <- adding1 - adding2\n",
    "            \n",
    "            if (dim(singlar_added)[1]<rank) # we append singular at the rows\n",
    "                {singular <- rbind(singular, adding)}\n",
    "            \n",
    "            else{singluar <- cbind(singular, adding)} # append singular at columns\n",
    "\n",
    "           \n",
    "            }\n",
    "        \n",
    "        }\n",
    "    print(paste('The final rank of the matirx is', rankMatrix(singular), 'and should be', rank))\n",
    "    return(singular)\n",
    "    }\n"
   ]
  },
  {
   "cell_type": "code",
   "execution_count": 15,
   "metadata": {
    "scrolled": true
   },
   "outputs": [
    {
     "name": "stdout",
     "output_type": "stream",
     "text": [
      "[1] \"The final rank of the matirx is 4 and should be 4\"\n"
     ]
    },
    {
     "data": {
      "text/html": [
       "<table class=\"dataframe\">\n",
       "<caption>A matrix: 5 × 4 of type int</caption>\n",
       "<tbody>\n",
       "\t<tr><td>33</td><td>59</td><td>93</td><td>38</td></tr>\n",
       "\t<tr><td>55</td><td>11</td><td>93</td><td>44</td></tr>\n",
       "\t<tr><td>24</td><td>84</td><td>84</td><td>33</td></tr>\n",
       "\t<tr><td>15</td><td>85</td><td>34</td><td>48</td></tr>\n",
       "\t<tr><td>36</td><td>61</td><td>92</td><td>94</td></tr>\n",
       "</tbody>\n",
       "</table>\n"
      ],
      "text/latex": [
       "A matrix: 5 × 4 of type int\n",
       "\\begin{tabular}{llll}\n",
       "\t 33 & 59 & 93 & 38\\\\\n",
       "\t 55 & 11 & 93 & 44\\\\\n",
       "\t 24 & 84 & 84 & 33\\\\\n",
       "\t 15 & 85 & 34 & 48\\\\\n",
       "\t 36 & 61 & 92 & 94\\\\\n",
       "\\end{tabular}\n"
      ],
      "text/markdown": [
       "\n",
       "A matrix: 5 × 4 of type int\n",
       "\n",
       "| 33 | 59 | 93 | 38 |\n",
       "| 55 | 11 | 93 | 44 |\n",
       "| 24 | 84 | 84 | 33 |\n",
       "| 15 | 85 | 34 | 48 |\n",
       "| 36 | 61 | 92 | 94 |\n",
       "\n"
      ],
      "text/plain": [
       "     [,1] [,2] [,3] [,4]\n",
       "[1,] 33   59   93   38  \n",
       "[2,] 55   11   93   44  \n",
       "[3,] 24   84   84   33  \n",
       "[4,] 15   85   34   48  \n",
       "[5,] 36   61   92   94  "
      ]
     },
     "metadata": {},
     "output_type": "display_data"
    }
   ],
   "source": [
    "mat4 <- singular_matrix(4)\n",
    "mat4\n"
   ]
  },
  {
   "cell_type": "code",
   "execution_count": 16,
   "metadata": {
    "scrolled": true
   },
   "outputs": [
    {
     "name": "stdout",
     "output_type": "stream",
     "text": [
      "[1] \"The final rank of the matirx is 5 and should be 5\"\n"
     ]
    },
    {
     "data": {
      "text/html": [
       "<table class=\"dataframe\">\n",
       "<caption>A matrix: 6 × 5 of type int</caption>\n",
       "<tbody>\n",
       "\t<tr><td>39</td><td>81</td><td>79</td><td>39</td><td>80</td></tr>\n",
       "\t<tr><td>46</td><td>11</td><td>89</td><td>70</td><td> 4</td></tr>\n",
       "\t<tr><td>38</td><td>92</td><td>10</td><td> 7</td><td>27</td></tr>\n",
       "\t<tr><td> 5</td><td>97</td><td>97</td><td>24</td><td>81</td></tr>\n",
       "\t<tr><td>66</td><td> 2</td><td>72</td><td>59</td><td>36</td></tr>\n",
       "\t<tr><td>98</td><td> 9</td><td>59</td><td> 6</td><td>83</td></tr>\n",
       "</tbody>\n",
       "</table>\n"
      ],
      "text/latex": [
       "A matrix: 6 × 5 of type int\n",
       "\\begin{tabular}{lllll}\n",
       "\t 39 & 81 & 79 & 39 & 80\\\\\n",
       "\t 46 & 11 & 89 & 70 &  4\\\\\n",
       "\t 38 & 92 & 10 &  7 & 27\\\\\n",
       "\t  5 & 97 & 97 & 24 & 81\\\\\n",
       "\t 66 &  2 & 72 & 59 & 36\\\\\n",
       "\t 98 &  9 & 59 &  6 & 83\\\\\n",
       "\\end{tabular}\n"
      ],
      "text/markdown": [
       "\n",
       "A matrix: 6 × 5 of type int\n",
       "\n",
       "| 39 | 81 | 79 | 39 | 80 |\n",
       "| 46 | 11 | 89 | 70 |  4 |\n",
       "| 38 | 92 | 10 |  7 | 27 |\n",
       "|  5 | 97 | 97 | 24 | 81 |\n",
       "| 66 |  2 | 72 | 59 | 36 |\n",
       "| 98 |  9 | 59 |  6 | 83 |\n",
       "\n"
      ],
      "text/plain": [
       "     [,1] [,2] [,3] [,4] [,5]\n",
       "[1,] 39   81   79   39   80  \n",
       "[2,] 46   11   89   70    4  \n",
       "[3,] 38   92   10    7   27  \n",
       "[4,]  5   97   97   24   81  \n",
       "[5,] 66    2   72   59   36  \n",
       "[6,] 98    9   59    6   83  "
      ]
     },
     "metadata": {},
     "output_type": "display_data"
    }
   ],
   "source": [
    "mat5 <- singular_matrix(5)\n",
    "mat5\n"
   ]
  },
  {
   "cell_type": "code",
   "execution_count": 17,
   "metadata": {
    "scrolled": false
   },
   "outputs": [
    {
     "name": "stdout",
     "output_type": "stream",
     "text": [
      "[1] \"The final rank of the matirx is 20 and should be 20\"\n"
     ]
    },
    {
     "data": {
      "text/html": [
       "<table class=\"dataframe\">\n",
       "<caption>A matrix: 21 × 20 of type int</caption>\n",
       "<tbody>\n",
       "\t<tr><td>26</td><td>30</td><td>17</td><td>38</td><td>36</td><td> 5</td><td>12</td><td>88</td><td>33</td><td>37</td><td> 8</td><td>23</td><td> 33</td><td>  1</td><td> 14</td><td>11</td><td> 69</td><td>15</td><td>85</td><td> 22</td></tr>\n",
       "\t<tr><td>16</td><td>51</td><td> 2</td><td> 3</td><td>17</td><td>73</td><td>11</td><td>57</td><td>13</td><td>60</td><td>31</td><td>50</td><td> 52</td><td> 99</td><td> 49</td><td> 8</td><td>  1</td><td>26</td><td>85</td><td> 50</td></tr>\n",
       "\t<tr><td>85</td><td>58</td><td>87</td><td>28</td><td>95</td><td>81</td><td>60</td><td>39</td><td>73</td><td>56</td><td>92</td><td>84</td><td> 67</td><td> 42</td><td> 74</td><td>95</td><td> 35</td><td> 6</td><td>71</td><td> 18</td></tr>\n",
       "\t<tr><td>75</td><td>15</td><td>36</td><td>67</td><td>24</td><td>35</td><td>10</td><td>11</td><td>81</td><td>38</td><td>75</td><td>43</td><td> 97</td><td> 69</td><td> 64</td><td>30</td><td> 79</td><td> 0</td><td>86</td><td> 12</td></tr>\n",
       "\t<tr><td>45</td><td>61</td><td>70</td><td>87</td><td>86</td><td>41</td><td>64</td><td>72</td><td> 4</td><td>51</td><td> 7</td><td>35</td><td> 57</td><td> 37</td><td> 69</td><td>45</td><td> 29</td><td>70</td><td>24</td><td> 19</td></tr>\n",
       "\t<tr><td>28</td><td>46</td><td>44</td><td>95</td><td>93</td><td> 4</td><td>75</td><td>16</td><td>92</td><td>58</td><td>10</td><td>56</td><td> 15</td><td> 19</td><td> 99</td><td> 3</td><td> 82</td><td>22</td><td> 5</td><td>  6</td></tr>\n",
       "\t<tr><td>49</td><td> 2</td><td>16</td><td>54</td><td>85</td><td>76</td><td> 8</td><td>18</td><td>36</td><td>57</td><td>17</td><td>28</td><td> 46</td><td> 28</td><td>  0</td><td>41</td><td>  1</td><td>68</td><td> 3</td><td> 94</td></tr>\n",
       "\t<tr><td>38</td><td>67</td><td> 7</td><td>87</td><td>40</td><td>69</td><td>15</td><td>99</td><td>13</td><td>58</td><td> 5</td><td>89</td><td>100</td><td> 87</td><td> 63</td><td>97</td><td> 38</td><td>25</td><td> 1</td><td> 12</td></tr>\n",
       "\t<tr><td>32</td><td>70</td><td>40</td><td> 5</td><td>58</td><td>58</td><td>51</td><td>95</td><td>48</td><td>49</td><td>46</td><td>14</td><td> 20</td><td>100</td><td> 54</td><td>13</td><td> 18</td><td>89</td><td>15</td><td> 94</td></tr>\n",
       "\t<tr><td>27</td><td>27</td><td>38</td><td>57</td><td>66</td><td> 7</td><td>41</td><td>50</td><td>42</td><td>78</td><td>62</td><td>77</td><td> 88</td><td> 95</td><td> 72</td><td>74</td><td> 62</td><td>57</td><td>96</td><td> 17</td></tr>\n",
       "\t<tr><td>90</td><td> 2</td><td>12</td><td> 8</td><td>35</td><td>15</td><td>79</td><td>11</td><td>39</td><td> 8</td><td>50</td><td>75</td><td> 53</td><td> 40</td><td>  5</td><td>79</td><td>  1</td><td>62</td><td>23</td><td> 28</td></tr>\n",
       "\t<tr><td>91</td><td>91</td><td>62</td><td>18</td><td>66</td><td>68</td><td>75</td><td>68</td><td>29</td><td>91</td><td>56</td><td>26</td><td> 71</td><td> 86</td><td> 96</td><td>19</td><td> 16</td><td>71</td><td>59</td><td> 63</td></tr>\n",
       "\t<tr><td>37</td><td>55</td><td> 1</td><td>64</td><td>48</td><td>14</td><td>79</td><td>56</td><td>87</td><td>20</td><td>84</td><td>37</td><td> 73</td><td> 26</td><td>100</td><td>37</td><td> 91</td><td>51</td><td>70</td><td> 50</td></tr>\n",
       "\t<tr><td>61</td><td>42</td><td>13</td><td>16</td><td>25</td><td> 7</td><td>55</td><td>96</td><td>64</td><td>26</td><td>98</td><td>54</td><td> 58</td><td>  4</td><td> 14</td><td>42</td><td> 93</td><td>98</td><td>85</td><td> 58</td></tr>\n",
       "\t<tr><td>20</td><td>95</td><td>74</td><td>99</td><td>56</td><td>53</td><td>90</td><td>87</td><td> 0</td><td>66</td><td>66</td><td>19</td><td> 75</td><td> 29</td><td> 61</td><td>94</td><td> 43</td><td>25</td><td>91</td><td> 65</td></tr>\n",
       "\t<tr><td>47</td><td>20</td><td>33</td><td>49</td><td>60</td><td>79</td><td>59</td><td> 6</td><td>99</td><td>20</td><td>87</td><td>85</td><td> 59</td><td> 22</td><td> 24</td><td>58</td><td>100</td><td> 4</td><td>75</td><td> 21</td></tr>\n",
       "\t<tr><td> 5</td><td>11</td><td> 9</td><td>67</td><td>92</td><td>92</td><td>88</td><td>18</td><td>61</td><td>21</td><td>82</td><td>43</td><td> 53</td><td> 23</td><td> 56</td><td>93</td><td> 31</td><td>70</td><td>97</td><td> 65</td></tr>\n",
       "\t<tr><td>13</td><td>48</td><td> 7</td><td>57</td><td>10</td><td>99</td><td>86</td><td>10</td><td> 3</td><td>71</td><td> 8</td><td>41</td><td> 21</td><td> 57</td><td> 66</td><td>97</td><td> 39</td><td>81</td><td>70</td><td> 23</td></tr>\n",
       "\t<tr><td>20</td><td>32</td><td>82</td><td>10</td><td>27</td><td>21</td><td>26</td><td>49</td><td>24</td><td>29</td><td>83</td><td> 1</td><td> 85</td><td> 38</td><td> 59</td><td> 7</td><td> 17</td><td> 3</td><td>34</td><td>100</td></tr>\n",
       "\t<tr><td>80</td><td>80</td><td>75</td><td>26</td><td>82</td><td>92</td><td>28</td><td>16</td><td>68</td><td>91</td><td>90</td><td>61</td><td> 24</td><td> 48</td><td> 38</td><td> 9</td><td> 51</td><td>62</td><td>44</td><td> 28</td></tr>\n",
       "\t<tr><td>74</td><td> 7</td><td>70</td><td>40</td><td>40</td><td>73</td><td>64</td><td>26</td><td>86</td><td>36</td><td>34</td><td>40</td><td> 44</td><td> 36</td><td> 22</td><td>40</td><td> 34</td><td> 3</td><td>39</td><td> 96</td></tr>\n",
       "</tbody>\n",
       "</table>\n"
      ],
      "text/latex": [
       "A matrix: 21 × 20 of type int\n",
       "\\begin{tabular}{llllllllllllllllllll}\n",
       "\t 26 & 30 & 17 & 38 & 36 &  5 & 12 & 88 & 33 & 37 &  8 & 23 &  33 &   1 &  14 & 11 &  69 & 15 & 85 &  22\\\\\n",
       "\t 16 & 51 &  2 &  3 & 17 & 73 & 11 & 57 & 13 & 60 & 31 & 50 &  52 &  99 &  49 &  8 &   1 & 26 & 85 &  50\\\\\n",
       "\t 85 & 58 & 87 & 28 & 95 & 81 & 60 & 39 & 73 & 56 & 92 & 84 &  67 &  42 &  74 & 95 &  35 &  6 & 71 &  18\\\\\n",
       "\t 75 & 15 & 36 & 67 & 24 & 35 & 10 & 11 & 81 & 38 & 75 & 43 &  97 &  69 &  64 & 30 &  79 &  0 & 86 &  12\\\\\n",
       "\t 45 & 61 & 70 & 87 & 86 & 41 & 64 & 72 &  4 & 51 &  7 & 35 &  57 &  37 &  69 & 45 &  29 & 70 & 24 &  19\\\\\n",
       "\t 28 & 46 & 44 & 95 & 93 &  4 & 75 & 16 & 92 & 58 & 10 & 56 &  15 &  19 &  99 &  3 &  82 & 22 &  5 &   6\\\\\n",
       "\t 49 &  2 & 16 & 54 & 85 & 76 &  8 & 18 & 36 & 57 & 17 & 28 &  46 &  28 &   0 & 41 &   1 & 68 &  3 &  94\\\\\n",
       "\t 38 & 67 &  7 & 87 & 40 & 69 & 15 & 99 & 13 & 58 &  5 & 89 & 100 &  87 &  63 & 97 &  38 & 25 &  1 &  12\\\\\n",
       "\t 32 & 70 & 40 &  5 & 58 & 58 & 51 & 95 & 48 & 49 & 46 & 14 &  20 & 100 &  54 & 13 &  18 & 89 & 15 &  94\\\\\n",
       "\t 27 & 27 & 38 & 57 & 66 &  7 & 41 & 50 & 42 & 78 & 62 & 77 &  88 &  95 &  72 & 74 &  62 & 57 & 96 &  17\\\\\n",
       "\t 90 &  2 & 12 &  8 & 35 & 15 & 79 & 11 & 39 &  8 & 50 & 75 &  53 &  40 &   5 & 79 &   1 & 62 & 23 &  28\\\\\n",
       "\t 91 & 91 & 62 & 18 & 66 & 68 & 75 & 68 & 29 & 91 & 56 & 26 &  71 &  86 &  96 & 19 &  16 & 71 & 59 &  63\\\\\n",
       "\t 37 & 55 &  1 & 64 & 48 & 14 & 79 & 56 & 87 & 20 & 84 & 37 &  73 &  26 & 100 & 37 &  91 & 51 & 70 &  50\\\\\n",
       "\t 61 & 42 & 13 & 16 & 25 &  7 & 55 & 96 & 64 & 26 & 98 & 54 &  58 &   4 &  14 & 42 &  93 & 98 & 85 &  58\\\\\n",
       "\t 20 & 95 & 74 & 99 & 56 & 53 & 90 & 87 &  0 & 66 & 66 & 19 &  75 &  29 &  61 & 94 &  43 & 25 & 91 &  65\\\\\n",
       "\t 47 & 20 & 33 & 49 & 60 & 79 & 59 &  6 & 99 & 20 & 87 & 85 &  59 &  22 &  24 & 58 & 100 &  4 & 75 &  21\\\\\n",
       "\t  5 & 11 &  9 & 67 & 92 & 92 & 88 & 18 & 61 & 21 & 82 & 43 &  53 &  23 &  56 & 93 &  31 & 70 & 97 &  65\\\\\n",
       "\t 13 & 48 &  7 & 57 & 10 & 99 & 86 & 10 &  3 & 71 &  8 & 41 &  21 &  57 &  66 & 97 &  39 & 81 & 70 &  23\\\\\n",
       "\t 20 & 32 & 82 & 10 & 27 & 21 & 26 & 49 & 24 & 29 & 83 &  1 &  85 &  38 &  59 &  7 &  17 &  3 & 34 & 100\\\\\n",
       "\t 80 & 80 & 75 & 26 & 82 & 92 & 28 & 16 & 68 & 91 & 90 & 61 &  24 &  48 &  38 &  9 &  51 & 62 & 44 &  28\\\\\n",
       "\t 74 &  7 & 70 & 40 & 40 & 73 & 64 & 26 & 86 & 36 & 34 & 40 &  44 &  36 &  22 & 40 &  34 &  3 & 39 &  96\\\\\n",
       "\\end{tabular}\n"
      ],
      "text/markdown": [
       "\n",
       "A matrix: 21 × 20 of type int\n",
       "\n",
       "| 26 | 30 | 17 | 38 | 36 |  5 | 12 | 88 | 33 | 37 |  8 | 23 |  33 |   1 |  14 | 11 |  69 | 15 | 85 |  22 |\n",
       "| 16 | 51 |  2 |  3 | 17 | 73 | 11 | 57 | 13 | 60 | 31 | 50 |  52 |  99 |  49 |  8 |   1 | 26 | 85 |  50 |\n",
       "| 85 | 58 | 87 | 28 | 95 | 81 | 60 | 39 | 73 | 56 | 92 | 84 |  67 |  42 |  74 | 95 |  35 |  6 | 71 |  18 |\n",
       "| 75 | 15 | 36 | 67 | 24 | 35 | 10 | 11 | 81 | 38 | 75 | 43 |  97 |  69 |  64 | 30 |  79 |  0 | 86 |  12 |\n",
       "| 45 | 61 | 70 | 87 | 86 | 41 | 64 | 72 |  4 | 51 |  7 | 35 |  57 |  37 |  69 | 45 |  29 | 70 | 24 |  19 |\n",
       "| 28 | 46 | 44 | 95 | 93 |  4 | 75 | 16 | 92 | 58 | 10 | 56 |  15 |  19 |  99 |  3 |  82 | 22 |  5 |   6 |\n",
       "| 49 |  2 | 16 | 54 | 85 | 76 |  8 | 18 | 36 | 57 | 17 | 28 |  46 |  28 |   0 | 41 |   1 | 68 |  3 |  94 |\n",
       "| 38 | 67 |  7 | 87 | 40 | 69 | 15 | 99 | 13 | 58 |  5 | 89 | 100 |  87 |  63 | 97 |  38 | 25 |  1 |  12 |\n",
       "| 32 | 70 | 40 |  5 | 58 | 58 | 51 | 95 | 48 | 49 | 46 | 14 |  20 | 100 |  54 | 13 |  18 | 89 | 15 |  94 |\n",
       "| 27 | 27 | 38 | 57 | 66 |  7 | 41 | 50 | 42 | 78 | 62 | 77 |  88 |  95 |  72 | 74 |  62 | 57 | 96 |  17 |\n",
       "| 90 |  2 | 12 |  8 | 35 | 15 | 79 | 11 | 39 |  8 | 50 | 75 |  53 |  40 |   5 | 79 |   1 | 62 | 23 |  28 |\n",
       "| 91 | 91 | 62 | 18 | 66 | 68 | 75 | 68 | 29 | 91 | 56 | 26 |  71 |  86 |  96 | 19 |  16 | 71 | 59 |  63 |\n",
       "| 37 | 55 |  1 | 64 | 48 | 14 | 79 | 56 | 87 | 20 | 84 | 37 |  73 |  26 | 100 | 37 |  91 | 51 | 70 |  50 |\n",
       "| 61 | 42 | 13 | 16 | 25 |  7 | 55 | 96 | 64 | 26 | 98 | 54 |  58 |   4 |  14 | 42 |  93 | 98 | 85 |  58 |\n",
       "| 20 | 95 | 74 | 99 | 56 | 53 | 90 | 87 |  0 | 66 | 66 | 19 |  75 |  29 |  61 | 94 |  43 | 25 | 91 |  65 |\n",
       "| 47 | 20 | 33 | 49 | 60 | 79 | 59 |  6 | 99 | 20 | 87 | 85 |  59 |  22 |  24 | 58 | 100 |  4 | 75 |  21 |\n",
       "|  5 | 11 |  9 | 67 | 92 | 92 | 88 | 18 | 61 | 21 | 82 | 43 |  53 |  23 |  56 | 93 |  31 | 70 | 97 |  65 |\n",
       "| 13 | 48 |  7 | 57 | 10 | 99 | 86 | 10 |  3 | 71 |  8 | 41 |  21 |  57 |  66 | 97 |  39 | 81 | 70 |  23 |\n",
       "| 20 | 32 | 82 | 10 | 27 | 21 | 26 | 49 | 24 | 29 | 83 |  1 |  85 |  38 |  59 |  7 |  17 |  3 | 34 | 100 |\n",
       "| 80 | 80 | 75 | 26 | 82 | 92 | 28 | 16 | 68 | 91 | 90 | 61 |  24 |  48 |  38 |  9 |  51 | 62 | 44 |  28 |\n",
       "| 74 |  7 | 70 | 40 | 40 | 73 | 64 | 26 | 86 | 36 | 34 | 40 |  44 |  36 |  22 | 40 |  34 |  3 | 39 |  96 |\n",
       "\n"
      ],
      "text/plain": [
       "      [,1] [,2] [,3] [,4] [,5] [,6] [,7] [,8] [,9] [,10] [,11] [,12] [,13]\n",
       " [1,] 26   30   17   38   36    5   12   88   33   37     8    23     33  \n",
       " [2,] 16   51    2    3   17   73   11   57   13   60    31    50     52  \n",
       " [3,] 85   58   87   28   95   81   60   39   73   56    92    84     67  \n",
       " [4,] 75   15   36   67   24   35   10   11   81   38    75    43     97  \n",
       " [5,] 45   61   70   87   86   41   64   72    4   51     7    35     57  \n",
       " [6,] 28   46   44   95   93    4   75   16   92   58    10    56     15  \n",
       " [7,] 49    2   16   54   85   76    8   18   36   57    17    28     46  \n",
       " [8,] 38   67    7   87   40   69   15   99   13   58     5    89    100  \n",
       " [9,] 32   70   40    5   58   58   51   95   48   49    46    14     20  \n",
       "[10,] 27   27   38   57   66    7   41   50   42   78    62    77     88  \n",
       "[11,] 90    2   12    8   35   15   79   11   39    8    50    75     53  \n",
       "[12,] 91   91   62   18   66   68   75   68   29   91    56    26     71  \n",
       "[13,] 37   55    1   64   48   14   79   56   87   20    84    37     73  \n",
       "[14,] 61   42   13   16   25    7   55   96   64   26    98    54     58  \n",
       "[15,] 20   95   74   99   56   53   90   87    0   66    66    19     75  \n",
       "[16,] 47   20   33   49   60   79   59    6   99   20    87    85     59  \n",
       "[17,]  5   11    9   67   92   92   88   18   61   21    82    43     53  \n",
       "[18,] 13   48    7   57   10   99   86   10    3   71     8    41     21  \n",
       "[19,] 20   32   82   10   27   21   26   49   24   29    83     1     85  \n",
       "[20,] 80   80   75   26   82   92   28   16   68   91    90    61     24  \n",
       "[21,] 74    7   70   40   40   73   64   26   86   36    34    40     44  \n",
       "      [,14] [,15] [,16] [,17] [,18] [,19] [,20]\n",
       " [1,]   1    14   11     69   15    85     22  \n",
       " [2,]  99    49    8      1   26    85     50  \n",
       " [3,]  42    74   95     35    6    71     18  \n",
       " [4,]  69    64   30     79    0    86     12  \n",
       " [5,]  37    69   45     29   70    24     19  \n",
       " [6,]  19    99    3     82   22     5      6  \n",
       " [7,]  28     0   41      1   68     3     94  \n",
       " [8,]  87    63   97     38   25     1     12  \n",
       " [9,] 100    54   13     18   89    15     94  \n",
       "[10,]  95    72   74     62   57    96     17  \n",
       "[11,]  40     5   79      1   62    23     28  \n",
       "[12,]  86    96   19     16   71    59     63  \n",
       "[13,]  26   100   37     91   51    70     50  \n",
       "[14,]   4    14   42     93   98    85     58  \n",
       "[15,]  29    61   94     43   25    91     65  \n",
       "[16,]  22    24   58    100    4    75     21  \n",
       "[17,]  23    56   93     31   70    97     65  \n",
       "[18,]  57    66   97     39   81    70     23  \n",
       "[19,]  38    59    7     17    3    34    100  \n",
       "[20,]  48    38    9     51   62    44     28  \n",
       "[21,]  36    22   40     34    3    39     96  "
      ]
     },
     "metadata": {},
     "output_type": "display_data"
    }
   ],
   "source": [
    "mat20 <- singular_matrix(20)\n",
    "mat20\n"
   ]
  },
  {
   "cell_type": "markdown",
   "metadata": {},
   "source": [
    "### Checking properties:"
   ]
  },
  {
   "cell_type": "code",
   "execution_count": 18,
   "metadata": {},
   "outputs": [],
   "source": [
    "testing_statements <- function(input_matrix)\n",
    "    {\n",
    "    # Getting the Moore-Penrose g-inverse:\n",
    "    g_inverse <- ginv(input_matrix, tol=sqrt(.Machine$double.eps))\n",
    "    \n",
    "    # P1: AGA = A\n",
    "    P1 <- all.equal(input_matrix %*% g_inverse %*% input_matrix, input_matrix) #== g_inverse\n",
    "    # Matrix comparison:\n",
    "    # identical() doesn't work because matrices are not exactly equal (per identical) \n",
    "    # because of very small differences.\n",
    "    # However, these differences are smaller than the default tolerance inside all.equal()\n",
    "    # with .Machine$double.eps ^ 0.5.\n",
    "    # Therefore, use all.equal()\n",
    "    print(paste('Current rank is', rankMatrix(input_matrix)))\n",
    "    print(paste('To show P1: AGA = A, which is', P1))\n",
    "    \n",
    "    # P2: GAG = G\n",
    "    P2 <- all.equal(g_inverse %*% input_matrix %*%  g_inverse ,  g_inverse)\n",
    "    print(paste('To show P2: GAG = G, which is', P2))\n",
    "    \n",
    "    # P3: t(AG) == AG\n",
    "    P3 <- all.equal(t(input_matrix %*% g_inverse), input_matrix %*% g_inverse)\n",
    "    print(paste('To show P3: t(AG) = AG, which is', P3))\n",
    "    \n",
    "    # P4: t(GA) = GA\n",
    "    P4 <- all.equal(t(g_inverse %*% input_matrix), g_inverse %*% input_matrix)\n",
    "    print(paste('To show P4: t(GA) = GA, which is', P4))\n",
    "    \n",
    "    }\n"
   ]
  },
  {
   "cell_type": "code",
   "execution_count": 19,
   "metadata": {},
   "outputs": [
    {
     "name": "stdout",
     "output_type": "stream",
     "text": [
      "[1] \"Current rank is 4\"\n",
      "[1] \"To show P1: AGA = A, which is TRUE\"\n",
      "[1] \"To show P2: GAG = G, which is TRUE\"\n",
      "[1] \"To show P3: t(AG) = AG, which is TRUE\"\n",
      "[1] \"To show P4: t(GA) = GA, which is TRUE\"\n"
     ]
    }
   ],
   "source": [
    "testing_statements(mat4)\n"
   ]
  },
  {
   "cell_type": "code",
   "execution_count": 20,
   "metadata": {},
   "outputs": [
    {
     "name": "stdout",
     "output_type": "stream",
     "text": [
      "[1] \"Current rank is 5\"\n",
      "[1] \"To show P1: AGA = A, which is TRUE\"\n",
      "[1] \"To show P2: GAG = G, which is TRUE\"\n",
      "[1] \"To show P3: t(AG) = AG, which is TRUE\"\n",
      "[1] \"To show P4: t(GA) = GA, which is TRUE\"\n"
     ]
    }
   ],
   "source": [
    "testing_statements(mat5)\n"
   ]
  },
  {
   "cell_type": "code",
   "execution_count": 21,
   "metadata": {},
   "outputs": [
    {
     "name": "stdout",
     "output_type": "stream",
     "text": [
      "[1] \"Current rank is 20\"\n",
      "[1] \"To show P1: AGA = A, which is TRUE\"\n",
      "[1] \"To show P2: GAG = G, which is TRUE\"\n",
      "[1] \"To show P3: t(AG) = AG, which is TRUE\"\n",
      "[1] \"To show P4: t(GA) = GA, which is TRUE\"\n"
     ]
    }
   ],
   "source": [
    "testing_statements(mat20)\n"
   ]
  },
  {
   "cell_type": "markdown",
   "metadata": {},
   "source": [
    "### Interpretation of P3 and P4"
   ]
  },
  {
   "cell_type": "markdown",
   "metadata": {},
   "source": [
    "Taking $A  A^{-1} = IdentityMatrix = A^{-1}  A$. Here we have no clean inverse because the matrices are singular. However, we could round the result to end up with  identical matrices, e.g.:"
   ]
  },
  {
   "cell_type": "code",
   "execution_count": 22,
   "metadata": {},
   "outputs": [
    {
     "name": "stdout",
     "output_type": "stream",
     "text": [
      "[1] \"AG=\"\n"
     ]
    },
    {
     "data": {
      "text/html": [
       "<table class=\"dataframe\">\n",
       "<caption>A matrix: 4 × 4 of type dbl</caption>\n",
       "<tbody>\n",
       "\t<tr><td> 1.000000e+00</td><td> 1.332268e-15</td><td> 0.000000e+00</td><td> 1.332268e-15</td></tr>\n",
       "\t<tr><td> 0.000000e+00</td><td> 1.000000e+00</td><td> 5.551115e-16</td><td> 5.551115e-16</td></tr>\n",
       "\t<tr><td>-1.665335e-16</td><td>-7.771561e-16</td><td> 1.000000e+00</td><td>-5.551115e-16</td></tr>\n",
       "\t<tr><td> 1.110223e-16</td><td>-2.220446e-16</td><td>-2.220446e-16</td><td> 1.000000e+00</td></tr>\n",
       "</tbody>\n",
       "</table>\n"
      ],
      "text/latex": [
       "A matrix: 4 × 4 of type dbl\n",
       "\\begin{tabular}{llll}\n",
       "\t  1.000000e+00 &  1.332268e-15 &  0.000000e+00 &  1.332268e-15\\\\\n",
       "\t  0.000000e+00 &  1.000000e+00 &  5.551115e-16 &  5.551115e-16\\\\\n",
       "\t -1.665335e-16 & -7.771561e-16 &  1.000000e+00 & -5.551115e-16\\\\\n",
       "\t  1.110223e-16 & -2.220446e-16 & -2.220446e-16 &  1.000000e+00\\\\\n",
       "\\end{tabular}\n"
      ],
      "text/markdown": [
       "\n",
       "A matrix: 4 × 4 of type dbl\n",
       "\n",
       "|  1.000000e+00 |  1.332268e-15 |  0.000000e+00 |  1.332268e-15 |\n",
       "|  0.000000e+00 |  1.000000e+00 |  5.551115e-16 |  5.551115e-16 |\n",
       "| -1.665335e-16 | -7.771561e-16 |  1.000000e+00 | -5.551115e-16 |\n",
       "|  1.110223e-16 | -2.220446e-16 | -2.220446e-16 |  1.000000e+00 |\n",
       "\n"
      ],
      "text/plain": [
       "     [,1]          [,2]          [,3]          [,4]         \n",
       "[1,]  1.000000e+00  1.332268e-15  0.000000e+00  1.332268e-15\n",
       "[2,]  0.000000e+00  1.000000e+00  5.551115e-16  5.551115e-16\n",
       "[3,] -1.665335e-16 -7.771561e-16  1.000000e+00 -5.551115e-16\n",
       "[4,]  1.110223e-16 -2.220446e-16 -2.220446e-16  1.000000e+00"
      ]
     },
     "metadata": {},
     "output_type": "display_data"
    }
   ],
   "source": [
    "print('AG=')\n",
    "ginv(mat4, tol=sqrt(.Machine$double.eps)) %*% mat4\n"
   ]
  },
  {
   "cell_type": "code",
   "execution_count": 23,
   "metadata": {},
   "outputs": [
    {
     "name": "stdout",
     "output_type": "stream",
     "text": [
      "[1] \"AG transposed=\"\n"
     ]
    },
    {
     "data": {
      "text/html": [
       "<table class=\"dataframe\">\n",
       "<caption>A matrix: 4 × 4 of type dbl</caption>\n",
       "<tbody>\n",
       "\t<tr><td>1.000000e+00</td><td>0.000000e+00</td><td>-1.665335e-16</td><td> 1.110223e-16</td></tr>\n",
       "\t<tr><td>1.332268e-15</td><td>1.000000e+00</td><td>-7.771561e-16</td><td>-2.220446e-16</td></tr>\n",
       "\t<tr><td>0.000000e+00</td><td>5.551115e-16</td><td> 1.000000e+00</td><td>-2.220446e-16</td></tr>\n",
       "\t<tr><td>1.332268e-15</td><td>5.551115e-16</td><td>-5.551115e-16</td><td> 1.000000e+00</td></tr>\n",
       "</tbody>\n",
       "</table>\n"
      ],
      "text/latex": [
       "A matrix: 4 × 4 of type dbl\n",
       "\\begin{tabular}{llll}\n",
       "\t 1.000000e+00 & 0.000000e+00 & -1.665335e-16 &  1.110223e-16\\\\\n",
       "\t 1.332268e-15 & 1.000000e+00 & -7.771561e-16 & -2.220446e-16\\\\\n",
       "\t 0.000000e+00 & 5.551115e-16 &  1.000000e+00 & -2.220446e-16\\\\\n",
       "\t 1.332268e-15 & 5.551115e-16 & -5.551115e-16 &  1.000000e+00\\\\\n",
       "\\end{tabular}\n"
      ],
      "text/markdown": [
       "\n",
       "A matrix: 4 × 4 of type dbl\n",
       "\n",
       "| 1.000000e+00 | 0.000000e+00 | -1.665335e-16 |  1.110223e-16 |\n",
       "| 1.332268e-15 | 1.000000e+00 | -7.771561e-16 | -2.220446e-16 |\n",
       "| 0.000000e+00 | 5.551115e-16 |  1.000000e+00 | -2.220446e-16 |\n",
       "| 1.332268e-15 | 5.551115e-16 | -5.551115e-16 |  1.000000e+00 |\n",
       "\n"
      ],
      "text/plain": [
       "     [,1]         [,2]         [,3]          [,4]         \n",
       "[1,] 1.000000e+00 0.000000e+00 -1.665335e-16  1.110223e-16\n",
       "[2,] 1.332268e-15 1.000000e+00 -7.771561e-16 -2.220446e-16\n",
       "[3,] 0.000000e+00 5.551115e-16  1.000000e+00 -2.220446e-16\n",
       "[4,] 1.332268e-15 5.551115e-16 -5.551115e-16  1.000000e+00"
      ]
     },
     "metadata": {},
     "output_type": "display_data"
    }
   ],
   "source": [
    "print('AG transposed=')\n",
    "t(ginv(mat4, tol=sqrt(.Machine$double.eps)) %*% mat4)\n"
   ]
  },
  {
   "cell_type": "markdown",
   "metadata": {},
   "source": [
    "When taking the transpose of a matrix, we end up switching the rows to columns and vice versa. Therefore, we get the same matrix but reflected along the diagonal. When taking the transpose of AG (as given in P3) then we get a mirrored version of AG which should be almost the identity matrix. Because of rounding errors when we take the Moore-Penrose g-inverse G instead of the real inverse $A^{-1}$ (which we can't use here because of singularity of A) we don't end up in identical matrices: $(AG)^T$ not identical with AG. However, we know $A A^{-1} = I$. So with rounding we achieve $(AG)^T = I = AG$ "
   ]
  },
  {
   "cell_type": "markdown",
   "metadata": {},
   "source": [
    "Same accounts for P4. $A  A^{-1} = IdentityMatrix = A^{-1}  A$"
   ]
  },
  {
   "cell_type": "markdown",
   "metadata": {},
   "source": [
    "## Task 3"
   ]
  },
  {
   "cell_type": "code",
   "execution_count": 24,
   "metadata": {},
   "outputs": [
    {
     "data": {
      "text/plain": [
       "\n",
       "Call:\n",
       "lm(formula = prices ~ time)\n",
       "\n",
       "Coefficients:\n",
       "(Intercept)         time  \n",
       "   1.208767     0.007586  \n"
      ]
     },
     "metadata": {},
     "output_type": "display_data"
    }
   ],
   "source": [
    "# Reuse:\n",
    "prices <- c(1.21,1.2,1.21,1.22,1.23,1.24,1.24,1.26,1.25,1.27,1.28,1.29,1.31,1.32,1.33,1.35,1.36,1.38,1.38,1.38,1.39,1.4,1.4,1.41,1.43,1.42,1.42,1.42,1.43,1.43,1.44,1.45,1.46,1.48,1.48,1.49,1.5,1.5,1.5,1.5,1.5,1.49,1.5,1.5,1.5,1.5,1.6,1.57,1.58,1.59)\n",
    "prices <- cummax(prices) # take old value when the new value falls\n",
    "time <- c(1:length(prices))\n",
    "Y <- lm(prices~time)\n",
    "Y\n"
   ]
  },
  {
   "cell_type": "code",
   "execution_count": 25,
   "metadata": {},
   "outputs": [
    {
     "data": {
      "image/png": "[encoded data removed]",
      "text/plain": [
       "plot without title"
      ]
     },
     "metadata": {
      "image/png": {
       "height": 420,
       "width": 420
      }
     },
     "output_type": "display_data"
    }
   ],
   "source": [
    "#Reuse:\n",
    "plot(prices)\n",
    "abline(Y)\n"
   ]
  },
  {
   "cell_type": "code",
   "execution_count": 26,
   "metadata": {},
   "outputs": [
    {
     "data": {
      "text/html": [
       "25"
      ],
      "text/latex": [
       "25"
      ],
      "text/markdown": [
       "25"
      ],
      "text/plain": [
       "[1] 25"
      ]
     },
     "metadata": {},
     "output_type": "display_data"
    }
   ],
   "source": [
    "time_interval_length <- length(prices)/2\n",
    "time_interval_length \n"
   ]
  },
  {
   "cell_type": "code",
   "execution_count": 27,
   "metadata": {},
   "outputs": [],
   "source": [
    "# Create a matrix:\n",
    "time1 <- matrix(rep(c(1,1,0),time_interval_length), nrow=time_interval_length, byrow=T)\n",
    "time2 <- matrix(rep(c(1,0,1),time_interval_length), nrow=time_interval_length, byrow=T)\n",
    "X <- rbind(time1,time2)\n"
   ]
  },
  {
   "cell_type": "code",
   "execution_count": 28,
   "metadata": {},
   "outputs": [
    {
     "data": {
      "text/html": [
       "2"
      ],
      "text/latex": [
       "2"
      ],
      "text/markdown": [
       "2"
      ],
      "text/plain": [
       "[1] 2\n",
       "attr(,\"method\")\n",
       "[1] \"tolNorm2\"\n",
       "attr(,\"useGrad\")\n",
       "[1] FALSE\n",
       "attr(,\"tol\")\n",
       "[1] 1.110223e-14"
      ]
     },
     "metadata": {},
     "output_type": "display_data"
    }
   ],
   "source": [
    "rankMatrix(X)\n"
   ]
  },
  {
   "cell_type": "code",
   "execution_count": 29,
   "metadata": {},
   "outputs": [
    {
     "data": {
      "text/html": [
       "<table class=\"dataframe\">\n",
       "<caption>A matrix: 3 × 1 of type dbl</caption>\n",
       "<tbody>\n",
       "\t<tr><td>0.9348</td></tr>\n",
       "\t<tr><td>0.3756</td></tr>\n",
       "\t<tr><td>0.5592</td></tr>\n",
       "</tbody>\n",
       "</table>\n"
      ],
      "text/latex": [
       "A matrix: 3 × 1 of type dbl\n",
       "\\begin{tabular}{l}\n",
       "\t 0.9348\\\\\n",
       "\t 0.3756\\\\\n",
       "\t 0.5592\\\\\n",
       "\\end{tabular}\n"
      ],
      "text/markdown": [
       "\n",
       "A matrix: 3 × 1 of type dbl\n",
       "\n",
       "| 0.9348 |\n",
       "| 0.3756 |\n",
       "| 0.5592 |\n",
       "\n"
      ],
      "text/plain": [
       "     [,1]  \n",
       "[1,] 0.9348\n",
       "[2,] 0.3756\n",
       "[3,] 0.5592"
      ]
     },
     "metadata": {},
     "output_type": "display_data"
    }
   ],
   "source": [
    "pseudo_inv <- ginv(X, tol=sqrt(.Machine$double.eps))\n",
    "a_array <- pseudo_inv %*% prices # prices = y\n",
    "a_array\n"
   ]
  },
  {
   "cell_type": "markdown",
   "metadata": {},
   "source": [
    "Getting variance:"
   ]
  },
  {
   "cell_type": "code",
   "execution_count": 30,
   "metadata": {},
   "outputs": [
    {
     "data": {
      "text/html": [
       "<table class=\"dataframe\">\n",
       "<caption>A matrix: 3 × 3 of type dbl</caption>\n",
       "<tbody>\n",
       "\t<tr><td>0.008888889</td><td> 0.004444444</td><td> 0.004444444</td></tr>\n",
       "\t<tr><td>0.004444444</td><td> 0.022222222</td><td>-0.017777778</td></tr>\n",
       "\t<tr><td>0.004444444</td><td>-0.017777778</td><td> 0.022222222</td></tr>\n",
       "</tbody>\n",
       "</table>\n"
      ],
      "text/latex": [
       "A matrix: 3 × 3 of type dbl\n",
       "\\begin{tabular}{lll}\n",
       "\t 0.008888889 &  0.004444444 &  0.004444444\\\\\n",
       "\t 0.004444444 &  0.022222222 & -0.017777778\\\\\n",
       "\t 0.004444444 & -0.017777778 &  0.022222222\\\\\n",
       "\\end{tabular}\n"
      ],
      "text/markdown": [
       "\n",
       "A matrix: 3 × 3 of type dbl\n",
       "\n",
       "| 0.008888889 |  0.004444444 |  0.004444444 |\n",
       "| 0.004444444 |  0.022222222 | -0.017777778 |\n",
       "| 0.004444444 | -0.017777778 |  0.022222222 |\n",
       "\n"
      ],
      "text/plain": [
       "     [,1]        [,2]         [,3]        \n",
       "[1,] 0.008888889  0.004444444  0.004444444\n",
       "[2,] 0.004444444  0.022222222 -0.017777778\n",
       "[3,] 0.004444444 -0.017777778  0.022222222"
      ]
     },
     "metadata": {},
     "output_type": "display_data"
    }
   ],
   "source": [
    "pseudo_inv2 <- ginv(t(X) %*% X, tol=sqrt(.Machine$double.eps))\n",
    "pseudo_inv2\n"
   ]
  },
  {
   "cell_type": "code",
   "execution_count": 31,
   "metadata": {},
   "outputs": [],
   "source": [
    "diagonals <- diag(pseudo_inv2)\n"
   ]
  },
  {
   "cell_type": "code",
   "execution_count": 32,
   "metadata": {},
   "outputs": [
    {
     "data": {
      "text/html": [
       "0.00888888888888889"
      ],
      "text/latex": [
       "0.00888888888888889"
      ],
      "text/markdown": [
       "0.00888888888888889"
      ],
      "text/plain": [
       "[1] 0.008888889"
      ]
     },
     "metadata": {},
     "output_type": "display_data"
    }
   ],
   "source": [
    "a0_var <- diagonals[1]\n",
    "a0_var\n"
   ]
  },
  {
   "cell_type": "code",
   "execution_count": 33,
   "metadata": {},
   "outputs": [
    {
     "data": {
      "text/html": [
       "0.0222222222222222"
      ],
      "text/latex": [
       "0.0222222222222222"
      ],
      "text/markdown": [
       "0.0222222222222222"
      ],
      "text/plain": [
       "[1] 0.02222222"
      ]
     },
     "metadata": {},
     "output_type": "display_data"
    }
   ],
   "source": [
    "a1_var <- diagonals[2]\n",
    "a1_var\n"
   ]
  },
  {
   "cell_type": "code",
   "execution_count": 34,
   "metadata": {},
   "outputs": [
    {
     "data": {
      "text/html": [
       "0.0222222222222222"
      ],
      "text/latex": [
       "0.0222222222222222"
      ],
      "text/markdown": [
       "0.0222222222222222"
      ],
      "text/plain": [
       "[1] 0.02222222"
      ]
     },
     "metadata": {},
     "output_type": "display_data"
    }
   ],
   "source": [
    "a2_var <- diagonals[3]\n",
    "a2_var\n"
   ]
  },
  {
   "cell_type": "code",
   "execution_count": null,
   "metadata": {},
   "outputs": [],
   "source": []
  }
 ],
 "metadata": {
  "kernelspec": {
   "display_name": "R",
   "language": "R",
   "name": "ir"
  },
  "language_info": {
   "codemirror_mode": "r",
   "file_extension": ".r",
   "mimetype": "text/x-r-source",
   "name": "R",
   "pygments_lexer": "r",
   "version": "3.6.3"
  }
 },
 "nbformat": 4,
 "nbformat_minor": 2
}
